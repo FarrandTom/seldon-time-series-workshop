{
 "cells": [
  {
   "cell_type": "markdown",
   "metadata": {
    "id": "NNsQppRJZGLQ"
   },
   "source": [
    "# Hands-On Time Series Workshop: *Identifying Arrhythmia Using Electrocardiogram Data*"
   ]
  },
  {
   "cell_type": "markdown",
   "metadata": {
    "id": "FcvNa1LCZ2e_"
   },
   "source": [
    "In this workshop we will be using time series electrocardiogram (ECG) data to classify Arrhythmia. \n",
    "\n",
    "The workshop is split into the following parts: \n",
    "1. Load and explore the dataset\n",
    "2. Pre-processing\n",
    "3. Training and saving the model \n",
    "4. Deploying the model\n",
    "5. Creating and adding a drift detector! \n",
    "\n",
    "The data pre-processing and model building are based upon the hardwork of Kaggle user Gregoire DC. You can see the original notebook [here](https://www.kaggle.com/gregoiredc/arrhythmia-on-ecg-classification-using-cnn). "
   ]
  },
  {
   "cell_type": "code",
   "execution_count": 88,
   "metadata": {
    "scrolled": true
   },
   "outputs": [
    {
     "name": "stdout",
     "output_type": "stream",
     "text": [
      "Requirement already satisfied: seldon-deploy-sdk==1.4.1 in /home/tom/miniconda3/envs/seldon-ecg-workshop/lib/python3.7/site-packages (1.4.1)\n",
      "Requirement already satisfied: six>=1.10 in /home/tom/miniconda3/envs/seldon-ecg-workshop/lib/python3.7/site-packages (from seldon-deploy-sdk==1.4.1) (1.15.0)\n",
      "Requirement already satisfied: certifi>=2017.4.17 in /home/tom/miniconda3/envs/seldon-ecg-workshop/lib/python3.7/site-packages (from seldon-deploy-sdk==1.4.1) (2021.10.8)\n",
      "Requirement already satisfied: python-dateutil>=2.1 in /home/tom/miniconda3/envs/seldon-ecg-workshop/lib/python3.7/site-packages (from seldon-deploy-sdk==1.4.1) (2.8.2)\n",
      "Requirement already satisfied: urllib3>=1.23 in /home/tom/miniconda3/envs/seldon-ecg-workshop/lib/python3.7/site-packages (from seldon-deploy-sdk==1.4.1) (1.26.7)\n",
      "Requirement already satisfied: Authlib<=0.16.0 in /home/tom/miniconda3/envs/seldon-ecg-workshop/lib/python3.7/site-packages (from seldon-deploy-sdk==1.4.1) (0.15.5)\n",
      "Requirement already satisfied: cryptography in /home/tom/miniconda3/envs/seldon-ecg-workshop/lib/python3.7/site-packages (from Authlib<=0.16.0->seldon-deploy-sdk==1.4.1) (35.0.0)\n",
      "Requirement already satisfied: cffi>=1.12 in /home/tom/miniconda3/envs/seldon-ecg-workshop/lib/python3.7/site-packages (from cryptography->Authlib<=0.16.0->seldon-deploy-sdk==1.4.1) (1.14.6)\n",
      "Requirement already satisfied: pycparser in /home/tom/miniconda3/envs/seldon-ecg-workshop/lib/python3.7/site-packages (from cffi>=1.12->cryptography->Authlib<=0.16.0->seldon-deploy-sdk==1.4.1) (2.20)\n",
      "Collecting alibi==0.6.0\n",
      "  Using cached alibi-0.6.0-py3-none-any.whl (327 kB)\n",
      "Requirement already satisfied: scikit-image!=0.17.1,<0.19,>=0.14.2 in /home/tom/miniconda3/envs/seldon-ecg-workshop/lib/python3.7/site-packages (from alibi==0.6.0) (0.18.3)\n",
      "Requirement already satisfied: numpy<2.0.0,>=1.16.2 in /home/tom/miniconda3/envs/seldon-ecg-workshop/lib/python3.7/site-packages (from alibi==0.6.0) (1.19.5)\n",
      "Requirement already satisfied: requests<3.0.0,>=2.21.0 in /home/tom/miniconda3/envs/seldon-ecg-workshop/lib/python3.7/site-packages (from alibi==0.6.0) (2.26.0)\n",
      "Requirement already satisfied: scipy<2.0.0,>=1.1.0 in /home/tom/miniconda3/envs/seldon-ecg-workshop/lib/python3.7/site-packages (from alibi==0.6.0) (1.7.1)\n",
      "Requirement already satisfied: Pillow<9.0,>=5.4.1 in /home/tom/miniconda3/envs/seldon-ecg-workshop/lib/python3.7/site-packages (from alibi==0.6.0) (8.4.0)\n",
      "Requirement already satisfied: typing-extensions>=3.7.2 in /home/tom/miniconda3/envs/seldon-ecg-workshop/lib/python3.7/site-packages (from alibi==0.6.0) (3.7.4.3)\n",
      "Requirement already satisfied: scikit-learn<0.25.0,>=0.20.2 in /home/tom/miniconda3/envs/seldon-ecg-workshop/lib/python3.7/site-packages (from alibi==0.6.0) (0.24.2)\n",
      "Requirement already satisfied: dill<0.4.0,>=0.3.0 in /home/tom/miniconda3/envs/seldon-ecg-workshop/lib/python3.7/site-packages (from alibi==0.6.0) (0.3.4)\n",
      "Requirement already satisfied: pandas<2.0.0,>=0.23.3 in /home/tom/miniconda3/envs/seldon-ecg-workshop/lib/python3.7/site-packages (from alibi==0.6.0) (1.3.4)\n",
      "Requirement already satisfied: matplotlib<4.0.0,>=3.0.0 in /home/tom/miniconda3/envs/seldon-ecg-workshop/lib/python3.7/site-packages (from alibi==0.6.0) (3.4.3)\n",
      "Requirement already satisfied: tensorflow<2.6.0,>=2.0.0 in /home/tom/miniconda3/envs/seldon-ecg-workshop/lib/python3.7/site-packages (from alibi==0.6.0) (2.4.4)\n",
      "Requirement already satisfied: attrs<22.0.0,>=19.2.0 in /home/tom/miniconda3/envs/seldon-ecg-workshop/lib/python3.7/site-packages (from alibi==0.6.0) (21.2.0)\n",
      "Collecting spacy[lookups]<4.0.0,>=2.0.0\n",
      "  Downloading spacy-3.2.0-cp37-cp37m-manylinux_2_17_x86_64.manylinux2014_x86_64.whl (6.0 MB)\n",
      "\u001b[K     |████████████████████████████████| 6.0 MB 3.7 MB/s eta 0:00:01\n",
      "\u001b[?25hRequirement already satisfied: transformers<5.0.0,>=4.7.0 in /home/tom/miniconda3/envs/seldon-ecg-workshop/lib/python3.7/site-packages (from alibi==0.6.0) (4.12.3)\n",
      "Requirement already satisfied: kiwisolver>=1.0.1 in /home/tom/miniconda3/envs/seldon-ecg-workshop/lib/python3.7/site-packages (from matplotlib<4.0.0,>=3.0.0->alibi==0.6.0) (1.3.2)\n",
      "Requirement already satisfied: pyparsing>=2.2.1 in /home/tom/miniconda3/envs/seldon-ecg-workshop/lib/python3.7/site-packages (from matplotlib<4.0.0,>=3.0.0->alibi==0.6.0) (3.0.4)\n",
      "Requirement already satisfied: cycler>=0.10 in /home/tom/miniconda3/envs/seldon-ecg-workshop/lib/python3.7/site-packages (from matplotlib<4.0.0,>=3.0.0->alibi==0.6.0) (0.11.0)\n",
      "Requirement already satisfied: python-dateutil>=2.7 in /home/tom/miniconda3/envs/seldon-ecg-workshop/lib/python3.7/site-packages (from matplotlib<4.0.0,>=3.0.0->alibi==0.6.0) (2.8.2)\n",
      "Requirement already satisfied: pytz>=2017.3 in /home/tom/miniconda3/envs/seldon-ecg-workshop/lib/python3.7/site-packages (from pandas<2.0.0,>=0.23.3->alibi==0.6.0) (2021.3)\n",
      "Requirement already satisfied: six>=1.5 in /home/tom/miniconda3/envs/seldon-ecg-workshop/lib/python3.7/site-packages (from python-dateutil>=2.7->matplotlib<4.0.0,>=3.0.0->alibi==0.6.0) (1.15.0)\n",
      "Requirement already satisfied: idna<4,>=2.5 in /home/tom/miniconda3/envs/seldon-ecg-workshop/lib/python3.7/site-packages (from requests<3.0.0,>=2.21.0->alibi==0.6.0) (3.3)\n",
      "Requirement already satisfied: urllib3<1.27,>=1.21.1 in /home/tom/miniconda3/envs/seldon-ecg-workshop/lib/python3.7/site-packages (from requests<3.0.0,>=2.21.0->alibi==0.6.0) (1.26.7)\n",
      "Requirement already satisfied: certifi>=2017.4.17 in /home/tom/miniconda3/envs/seldon-ecg-workshop/lib/python3.7/site-packages (from requests<3.0.0,>=2.21.0->alibi==0.6.0) (2021.10.8)\n",
      "Requirement already satisfied: charset-normalizer~=2.0.0 in /home/tom/miniconda3/envs/seldon-ecg-workshop/lib/python3.7/site-packages (from requests<3.0.0,>=2.21.0->alibi==0.6.0) (2.0.7)\n",
      "Requirement already satisfied: PyWavelets>=1.1.1 in /home/tom/miniconda3/envs/seldon-ecg-workshop/lib/python3.7/site-packages (from scikit-image!=0.17.1,<0.19,>=0.14.2->alibi==0.6.0) (1.1.1)\n",
      "Requirement already satisfied: networkx>=2.0 in /home/tom/miniconda3/envs/seldon-ecg-workshop/lib/python3.7/site-packages (from scikit-image!=0.17.1,<0.19,>=0.14.2->alibi==0.6.0) (2.6.3)\n",
      "Requirement already satisfied: tifffile>=2019.7.26 in /home/tom/miniconda3/envs/seldon-ecg-workshop/lib/python3.7/site-packages (from scikit-image!=0.17.1,<0.19,>=0.14.2->alibi==0.6.0) (2021.11.2)\n",
      "Requirement already satisfied: imageio>=2.3.0 in /home/tom/miniconda3/envs/seldon-ecg-workshop/lib/python3.7/site-packages (from scikit-image!=0.17.1,<0.19,>=0.14.2->alibi==0.6.0) (2.10.3)\n",
      "Requirement already satisfied: threadpoolctl>=2.0.0 in /home/tom/miniconda3/envs/seldon-ecg-workshop/lib/python3.7/site-packages (from scikit-learn<0.25.0,>=0.20.2->alibi==0.6.0) (3.0.0)\n",
      "Requirement already satisfied: joblib>=0.11 in /home/tom/miniconda3/envs/seldon-ecg-workshop/lib/python3.7/site-packages (from scikit-learn<0.25.0,>=0.20.2->alibi==0.6.0) (1.1.0)\n",
      "Requirement already satisfied: packaging>=20.0 in /home/tom/miniconda3/envs/seldon-ecg-workshop/lib/python3.7/site-packages (from spacy[lookups]<4.0.0,>=2.0.0->alibi==0.6.0) (21.0)\n",
      "Collecting wasabi<1.1.0,>=0.8.1\n",
      "  Using cached wasabi-0.8.2-py3-none-any.whl (23 kB)\n",
      "Requirement already satisfied: jinja2 in /home/tom/miniconda3/envs/seldon-ecg-workshop/lib/python3.7/site-packages (from spacy[lookups]<4.0.0,>=2.0.0->alibi==0.6.0) (3.0.2)\n",
      "Collecting cymem<2.1.0,>=2.0.2\n",
      "  Using cached cymem-2.0.6-cp37-cp37m-manylinux_2_17_x86_64.manylinux2014_x86_64.whl (35 kB)\n",
      "Requirement already satisfied: setuptools in /home/tom/miniconda3/envs/seldon-ecg-workshop/lib/python3.7/site-packages (from spacy[lookups]<4.0.0,>=2.0.0->alibi==0.6.0) (58.0.4)\n",
      "Collecting catalogue<2.1.0,>=2.0.6\n",
      "  Using cached catalogue-2.0.6-py3-none-any.whl (17 kB)\n",
      "Collecting murmurhash<1.1.0,>=0.28.0\n",
      "  Using cached murmurhash-1.0.6-cp37-cp37m-manylinux_2_5_x86_64.manylinux1_x86_64.manylinux_2_17_x86_64.manylinux2014_x86_64.whl (21 kB)\n",
      "Collecting srsly<3.0.0,>=2.4.1\n",
      "  Using cached srsly-2.4.2-cp37-cp37m-manylinux_2_17_x86_64.manylinux2014_x86_64.whl (451 kB)\n",
      "Collecting spacy-legacy<3.1.0,>=3.0.8\n",
      "  Using cached spacy_legacy-3.0.8-py2.py3-none-any.whl (14 kB)\n",
      "Collecting pydantic!=1.8,!=1.8.1,<1.9.0,>=1.7.4\n",
      "  Using cached pydantic-1.8.2-cp37-cp37m-manylinux2014_x86_64.whl (10.1 MB)\n"
     ]
    },
    {
     "name": "stdout",
     "output_type": "stream",
     "text": [
      "Collecting blis<0.8.0,>=0.4.0\n",
      "  Using cached blis-0.7.5-cp37-cp37m-manylinux_2_17_x86_64.manylinux2014_x86_64.whl (9.9 MB)\n",
      "Collecting pathy>=0.3.5\n",
      "  Using cached pathy-0.6.1-py3-none-any.whl (42 kB)\n",
      "Collecting typer<0.5.0,>=0.3.0\n",
      "  Using cached typer-0.4.0-py3-none-any.whl (27 kB)\n",
      "Requirement already satisfied: tqdm<5.0.0,>=4.38.0 in /home/tom/miniconda3/envs/seldon-ecg-workshop/lib/python3.7/site-packages (from spacy[lookups]<4.0.0,>=2.0.0->alibi==0.6.0) (4.62.3)\n",
      "Collecting spacy-loggers<2.0.0,>=1.0.0\n",
      "  Downloading spacy_loggers-1.0.1-py3-none-any.whl (7.0 kB)\n",
      "Collecting preshed<3.1.0,>=3.0.2\n",
      "  Using cached preshed-3.0.6-cp37-cp37m-manylinux_2_5_x86_64.manylinux1_x86_64.manylinux_2_17_x86_64.manylinux2014_x86_64.whl (125 kB)\n",
      "Collecting thinc<8.1.0,>=8.0.12\n",
      "  Downloading thinc-8.0.13-cp37-cp37m-manylinux_2_17_x86_64.manylinux2014_x86_64.whl (628 kB)\n",
      "\u001b[K     |████████████████████████████████| 628 kB 2.7 MB/s eta 0:00:01\n",
      "\u001b[?25hCollecting langcodes<4.0.0,>=3.2.0\n",
      "  Downloading langcodes-3.2.1.tar.gz (173 kB)\n",
      "\u001b[K     |████████████████████████████████| 173 kB 1.6 MB/s eta 0:00:01\n",
      "\u001b[?25hCollecting spacy-lookups-data<1.1.0,>=1.0.3\n",
      "  Using cached spacy_lookups_data-1.0.3-py2.py3-none-any.whl (98.5 MB)\n",
      "Requirement already satisfied: zipp>=0.5 in /home/tom/miniconda3/envs/seldon-ecg-workshop/lib/python3.7/site-packages (from catalogue<2.1.0,>=2.0.6->spacy[lookups]<4.0.0,>=2.0.0->alibi==0.6.0) (3.6.0)\n",
      "Collecting smart-open<6.0.0,>=5.0.0\n",
      "  Using cached smart_open-5.2.1-py3-none-any.whl (58 kB)\n",
      "Requirement already satisfied: astunparse~=1.6.3 in /home/tom/miniconda3/envs/seldon-ecg-workshop/lib/python3.7/site-packages (from tensorflow<2.6.0,>=2.0.0->alibi==0.6.0) (1.6.3)\n",
      "Requirement already satisfied: h5py~=2.10.0 in /home/tom/miniconda3/envs/seldon-ecg-workshop/lib/python3.7/site-packages (from tensorflow<2.6.0,>=2.0.0->alibi==0.6.0) (2.10.0)\n",
      "Requirement already satisfied: tensorboard~=2.4 in /home/tom/miniconda3/envs/seldon-ecg-workshop/lib/python3.7/site-packages (from tensorflow<2.6.0,>=2.0.0->alibi==0.6.0) (2.7.0)\n",
      "Requirement already satisfied: gast==0.3.3 in /home/tom/miniconda3/envs/seldon-ecg-workshop/lib/python3.7/site-packages (from tensorflow<2.6.0,>=2.0.0->alibi==0.6.0) (0.3.3)\n",
      "Requirement already satisfied: flatbuffers~=1.12.0 in /home/tom/miniconda3/envs/seldon-ecg-workshop/lib/python3.7/site-packages (from tensorflow<2.6.0,>=2.0.0->alibi==0.6.0) (1.12)\n",
      "Requirement already satisfied: wrapt~=1.12.1 in /home/tom/miniconda3/envs/seldon-ecg-workshop/lib/python3.7/site-packages (from tensorflow<2.6.0,>=2.0.0->alibi==0.6.0) (1.12.1)\n",
      "Requirement already satisfied: absl-py~=0.10 in /home/tom/miniconda3/envs/seldon-ecg-workshop/lib/python3.7/site-packages (from tensorflow<2.6.0,>=2.0.0->alibi==0.6.0) (0.15.0)\n",
      "Requirement already satisfied: google-pasta~=0.2 in /home/tom/miniconda3/envs/seldon-ecg-workshop/lib/python3.7/site-packages (from tensorflow<2.6.0,>=2.0.0->alibi==0.6.0) (0.2.0)\n",
      "Requirement already satisfied: protobuf>=3.9.2 in /home/tom/miniconda3/envs/seldon-ecg-workshop/lib/python3.7/site-packages (from tensorflow<2.6.0,>=2.0.0->alibi==0.6.0) (3.19.1)\n",
      "Requirement already satisfied: keras-preprocessing~=1.1.2 in /home/tom/miniconda3/envs/seldon-ecg-workshop/lib/python3.7/site-packages (from tensorflow<2.6.0,>=2.0.0->alibi==0.6.0) (1.1.2)\n",
      "Requirement already satisfied: wheel~=0.35 in /home/tom/miniconda3/envs/seldon-ecg-workshop/lib/python3.7/site-packages (from tensorflow<2.6.0,>=2.0.0->alibi==0.6.0) (0.37.0)\n",
      "Requirement already satisfied: tensorflow-estimator<2.5.0,>=2.4.0 in /home/tom/miniconda3/envs/seldon-ecg-workshop/lib/python3.7/site-packages (from tensorflow<2.6.0,>=2.0.0->alibi==0.6.0) (2.4.0)\n",
      "Requirement already satisfied: opt-einsum~=3.3.0 in /home/tom/miniconda3/envs/seldon-ecg-workshop/lib/python3.7/site-packages (from tensorflow<2.6.0,>=2.0.0->alibi==0.6.0) (3.3.0)\n",
      "Requirement already satisfied: termcolor~=1.1.0 in /home/tom/miniconda3/envs/seldon-ecg-workshop/lib/python3.7/site-packages (from tensorflow<2.6.0,>=2.0.0->alibi==0.6.0) (1.1.0)\n",
      "Requirement already satisfied: grpcio~=1.32.0 in /home/tom/miniconda3/envs/seldon-ecg-workshop/lib/python3.7/site-packages (from tensorflow<2.6.0,>=2.0.0->alibi==0.6.0) (1.32.0)\n",
      "Requirement already satisfied: tensorboard-plugin-wit>=1.6.0 in /home/tom/miniconda3/envs/seldon-ecg-workshop/lib/python3.7/site-packages (from tensorboard~=2.4->tensorflow<2.6.0,>=2.0.0->alibi==0.6.0) (1.8.0)\n",
      "Requirement already satisfied: werkzeug>=0.11.15 in /home/tom/miniconda3/envs/seldon-ecg-workshop/lib/python3.7/site-packages (from tensorboard~=2.4->tensorflow<2.6.0,>=2.0.0->alibi==0.6.0) (2.0.2)\n",
      "Requirement already satisfied: tensorboard-data-server<0.7.0,>=0.6.0 in /home/tom/miniconda3/envs/seldon-ecg-workshop/lib/python3.7/site-packages (from tensorboard~=2.4->tensorflow<2.6.0,>=2.0.0->alibi==0.6.0) (0.6.1)\n",
      "Requirement already satisfied: google-auth-oauthlib<0.5,>=0.4.1 in /home/tom/miniconda3/envs/seldon-ecg-workshop/lib/python3.7/site-packages (from tensorboard~=2.4->tensorflow<2.6.0,>=2.0.0->alibi==0.6.0) (0.4.6)\n",
      "Requirement already satisfied: google-auth<3,>=1.6.3 in /home/tom/miniconda3/envs/seldon-ecg-workshop/lib/python3.7/site-packages (from tensorboard~=2.4->tensorflow<2.6.0,>=2.0.0->alibi==0.6.0) (2.3.3)\n",
      "Requirement already satisfied: markdown>=2.6.8 in /home/tom/miniconda3/envs/seldon-ecg-workshop/lib/python3.7/site-packages (from tensorboard~=2.4->tensorflow<2.6.0,>=2.0.0->alibi==0.6.0) (3.3.4)\n",
      "Requirement already satisfied: rsa<5,>=3.1.4 in /home/tom/miniconda3/envs/seldon-ecg-workshop/lib/python3.7/site-packages (from google-auth<3,>=1.6.3->tensorboard~=2.4->tensorflow<2.6.0,>=2.0.0->alibi==0.6.0) (4.7.2)\n",
      "Requirement already satisfied: cachetools<5.0,>=2.0.0 in /home/tom/miniconda3/envs/seldon-ecg-workshop/lib/python3.7/site-packages (from google-auth<3,>=1.6.3->tensorboard~=2.4->tensorflow<2.6.0,>=2.0.0->alibi==0.6.0) (4.2.4)\n",
      "Requirement already satisfied: pyasn1-modules>=0.2.1 in /home/tom/miniconda3/envs/seldon-ecg-workshop/lib/python3.7/site-packages (from google-auth<3,>=1.6.3->tensorboard~=2.4->tensorflow<2.6.0,>=2.0.0->alibi==0.6.0) (0.2.8)\n",
      "Requirement already satisfied: requests-oauthlib>=0.7.0 in /home/tom/miniconda3/envs/seldon-ecg-workshop/lib/python3.7/site-packages (from google-auth-oauthlib<0.5,>=0.4.1->tensorboard~=2.4->tensorflow<2.6.0,>=2.0.0->alibi==0.6.0) (1.3.0)\n",
      "Requirement already satisfied: importlib-metadata in /home/tom/miniconda3/envs/seldon-ecg-workshop/lib/python3.7/site-packages (from markdown>=2.6.8->tensorboard~=2.4->tensorflow<2.6.0,>=2.0.0->alibi==0.6.0) (4.8.1)\n",
      "Requirement already satisfied: pyasn1<0.5.0,>=0.4.6 in /home/tom/miniconda3/envs/seldon-ecg-workshop/lib/python3.7/site-packages (from pyasn1-modules>=0.2.1->google-auth<3,>=1.6.3->tensorboard~=2.4->tensorflow<2.6.0,>=2.0.0->alibi==0.6.0) (0.4.8)\n",
      "Requirement already satisfied: oauthlib>=3.0.0 in /home/tom/miniconda3/envs/seldon-ecg-workshop/lib/python3.7/site-packages (from requests-oauthlib>=0.7.0->google-auth-oauthlib<0.5,>=0.4.1->tensorboard~=2.4->tensorflow<2.6.0,>=2.0.0->alibi==0.6.0) (3.1.1)\n",
      "Requirement already satisfied: huggingface-hub<1.0,>=0.1.0 in /home/tom/miniconda3/envs/seldon-ecg-workshop/lib/python3.7/site-packages (from transformers<5.0.0,>=4.7.0->alibi==0.6.0) (0.1.1)\n",
      "Requirement already satisfied: tokenizers<0.11,>=0.10.1 in /home/tom/miniconda3/envs/seldon-ecg-workshop/lib/python3.7/site-packages (from transformers<5.0.0,>=4.7.0->alibi==0.6.0) (0.10.3)\n",
      "Requirement already satisfied: pyyaml>=5.1 in /home/tom/miniconda3/envs/seldon-ecg-workshop/lib/python3.7/site-packages (from transformers<5.0.0,>=4.7.0->alibi==0.6.0) (6.0)\n",
      "Requirement already satisfied: sacremoses in /home/tom/miniconda3/envs/seldon-ecg-workshop/lib/python3.7/site-packages (from transformers<5.0.0,>=4.7.0->alibi==0.6.0) (0.0.46)\n",
      "Requirement already satisfied: regex!=2019.12.17 in /home/tom/miniconda3/envs/seldon-ecg-workshop/lib/python3.7/site-packages (from transformers<5.0.0,>=4.7.0->alibi==0.6.0) (2021.11.2)\n",
      "Requirement already satisfied: filelock in /home/tom/miniconda3/envs/seldon-ecg-workshop/lib/python3.7/site-packages (from transformers<5.0.0,>=4.7.0->alibi==0.6.0) (3.3.2)\n",
      "Requirement already satisfied: click<9.0.0,>=7.1.1 in /home/tom/miniconda3/envs/seldon-ecg-workshop/lib/python3.7/site-packages (from typer<0.5.0,>=0.3.0->spacy[lookups]<4.0.0,>=2.0.0->alibi==0.6.0) (8.0.3)\n"
     ]
    },
    {
     "name": "stdout",
     "output_type": "stream",
     "text": [
      "Requirement already satisfied: MarkupSafe>=2.0 in /home/tom/miniconda3/envs/seldon-ecg-workshop/lib/python3.7/site-packages (from jinja2->spacy[lookups]<4.0.0,>=2.0.0->alibi==0.6.0) (2.0.1)\n",
      "Building wheels for collected packages: langcodes\n",
      "  Building wheel for langcodes (setup.py) ... \u001b[?25ldone\n",
      "\u001b[?25h  Created wheel for langcodes: filename=langcodes-3.2.1-py3-none-any.whl size=169396 sha256=3df6ffe1778875360e6282ae5ff8865387aca06b4ed3b0f50c31cb6dd579e649\n",
      "  Stored in directory: /home/tom/.cache/pip/wheels/12/9c/b3/d42c928e622075d3b6056733125190086e44c9230878e6eb2b\n",
      "Successfully built langcodes\n",
      "Installing collected packages: murmurhash, cymem, catalogue, wasabi, typer, srsly, smart-open, pydantic, preshed, blis, thinc, spacy-loggers, spacy-legacy, pathy, langcodes, spacy-lookups-data, spacy, alibi\n",
      "Successfully installed alibi-0.6.0 blis-0.7.5 catalogue-2.0.6 cymem-2.0.6 langcodes-3.2.1 murmurhash-1.0.6 pathy-0.6.1 preshed-3.0.6 pydantic-1.8.2 smart-open-5.2.1 spacy-3.2.0 spacy-legacy-3.0.8 spacy-loggers-1.0.1 spacy-lookups-data-1.0.3 srsly-2.4.2 thinc-8.0.13 typer-0.4.0 wasabi-0.8.2\n",
      "Requirement already satisfied: alibi-detect==0.6.1 in /home/tom/miniconda3/envs/seldon-ecg-workshop/lib/python3.7/site-packages (0.6.1)\n",
      "Requirement already satisfied: tensorflow<2.5.0,>=2.0.0 in /home/tom/miniconda3/envs/seldon-ecg-workshop/lib/python3.7/site-packages (from alibi-detect==0.6.1) (2.4.4)\n",
      "Requirement already satisfied: transformers<5.0.0,>=2.10.0 in /home/tom/miniconda3/envs/seldon-ecg-workshop/lib/python3.7/site-packages (from alibi-detect==0.6.1) (4.12.3)\n",
      "Requirement already satisfied: opencv-python<5.0.0,>=3.2.0 in /home/tom/miniconda3/envs/seldon-ecg-workshop/lib/python3.7/site-packages (from alibi-detect==0.6.1) (4.5.4.58)\n",
      "Requirement already satisfied: tensorflow-probability<0.13.0,>=0.8.0 in /home/tom/miniconda3/envs/seldon-ecg-workshop/lib/python3.7/site-packages (from alibi-detect==0.6.1) (0.12.2)\n",
      "Requirement already satisfied: pandas<2.0.0,>=0.23.3 in /home/tom/miniconda3/envs/seldon-ecg-workshop/lib/python3.7/site-packages (from alibi-detect==0.6.1) (1.3.4)\n",
      "Requirement already satisfied: scipy<2.0.0,>=1.3.0 in /home/tom/miniconda3/envs/seldon-ecg-workshop/lib/python3.7/site-packages (from alibi-detect==0.6.1) (1.7.1)\n",
      "Requirement already satisfied: matplotlib<4.0.0,>=3.0.0 in /home/tom/miniconda3/envs/seldon-ecg-workshop/lib/python3.7/site-packages (from alibi-detect==0.6.1) (3.4.3)\n",
      "Requirement already satisfied: scikit-learn<0.25.0,>=0.20.2 in /home/tom/miniconda3/envs/seldon-ecg-workshop/lib/python3.7/site-packages (from alibi-detect==0.6.1) (0.24.2)\n",
      "Requirement already satisfied: numpy<2.0.0,>=1.16.2 in /home/tom/miniconda3/envs/seldon-ecg-workshop/lib/python3.7/site-packages (from alibi-detect==0.6.1) (1.19.5)\n",
      "Requirement already satisfied: Pillow<9.0.0,>=5.4.1 in /home/tom/miniconda3/envs/seldon-ecg-workshop/lib/python3.7/site-packages (from alibi-detect==0.6.1) (8.4.0)\n",
      "Requirement already satisfied: scikit-image!=0.17.1,<0.19,>=0.14.2 in /home/tom/miniconda3/envs/seldon-ecg-workshop/lib/python3.7/site-packages (from alibi-detect==0.6.1) (0.18.3)\n",
      "Requirement already satisfied: kiwisolver>=1.0.1 in /home/tom/miniconda3/envs/seldon-ecg-workshop/lib/python3.7/site-packages (from matplotlib<4.0.0,>=3.0.0->alibi-detect==0.6.1) (1.3.2)\n",
      "Requirement already satisfied: pyparsing>=2.2.1 in /home/tom/miniconda3/envs/seldon-ecg-workshop/lib/python3.7/site-packages (from matplotlib<4.0.0,>=3.0.0->alibi-detect==0.6.1) (3.0.4)\n",
      "Requirement already satisfied: cycler>=0.10 in /home/tom/miniconda3/envs/seldon-ecg-workshop/lib/python3.7/site-packages (from matplotlib<4.0.0,>=3.0.0->alibi-detect==0.6.1) (0.11.0)\n",
      "Requirement already satisfied: python-dateutil>=2.7 in /home/tom/miniconda3/envs/seldon-ecg-workshop/lib/python3.7/site-packages (from matplotlib<4.0.0,>=3.0.0->alibi-detect==0.6.1) (2.8.2)\n",
      "Requirement already satisfied: pytz>=2017.3 in /home/tom/miniconda3/envs/seldon-ecg-workshop/lib/python3.7/site-packages (from pandas<2.0.0,>=0.23.3->alibi-detect==0.6.1) (2021.3)\n",
      "Requirement already satisfied: six>=1.5 in /home/tom/miniconda3/envs/seldon-ecg-workshop/lib/python3.7/site-packages (from python-dateutil>=2.7->matplotlib<4.0.0,>=3.0.0->alibi-detect==0.6.1) (1.15.0)\n",
      "Requirement already satisfied: tifffile>=2019.7.26 in /home/tom/miniconda3/envs/seldon-ecg-workshop/lib/python3.7/site-packages (from scikit-image!=0.17.1,<0.19,>=0.14.2->alibi-detect==0.6.1) (2021.11.2)\n",
      "Requirement already satisfied: imageio>=2.3.0 in /home/tom/miniconda3/envs/seldon-ecg-workshop/lib/python3.7/site-packages (from scikit-image!=0.17.1,<0.19,>=0.14.2->alibi-detect==0.6.1) (2.10.3)\n",
      "Requirement already satisfied: networkx>=2.0 in /home/tom/miniconda3/envs/seldon-ecg-workshop/lib/python3.7/site-packages (from scikit-image!=0.17.1,<0.19,>=0.14.2->alibi-detect==0.6.1) (2.6.3)\n",
      "Requirement already satisfied: PyWavelets>=1.1.1 in /home/tom/miniconda3/envs/seldon-ecg-workshop/lib/python3.7/site-packages (from scikit-image!=0.17.1,<0.19,>=0.14.2->alibi-detect==0.6.1) (1.1.1)\n",
      "Requirement already satisfied: threadpoolctl>=2.0.0 in /home/tom/miniconda3/envs/seldon-ecg-workshop/lib/python3.7/site-packages (from scikit-learn<0.25.0,>=0.20.2->alibi-detect==0.6.1) (3.0.0)\n",
      "Requirement already satisfied: joblib>=0.11 in /home/tom/miniconda3/envs/seldon-ecg-workshop/lib/python3.7/site-packages (from scikit-learn<0.25.0,>=0.20.2->alibi-detect==0.6.1) (1.1.0)\n",
      "Requirement already satisfied: google-pasta~=0.2 in /home/tom/miniconda3/envs/seldon-ecg-workshop/lib/python3.7/site-packages (from tensorflow<2.5.0,>=2.0.0->alibi-detect==0.6.1) (0.2.0)\n",
      "Requirement already satisfied: tensorflow-estimator<2.5.0,>=2.4.0 in /home/tom/miniconda3/envs/seldon-ecg-workshop/lib/python3.7/site-packages (from tensorflow<2.5.0,>=2.0.0->alibi-detect==0.6.1) (2.4.0)\n",
      "Requirement already satisfied: opt-einsum~=3.3.0 in /home/tom/miniconda3/envs/seldon-ecg-workshop/lib/python3.7/site-packages (from tensorflow<2.5.0,>=2.0.0->alibi-detect==0.6.1) (3.3.0)\n",
      "Requirement already satisfied: keras-preprocessing~=1.1.2 in /home/tom/miniconda3/envs/seldon-ecg-workshop/lib/python3.7/site-packages (from tensorflow<2.5.0,>=2.0.0->alibi-detect==0.6.1) (1.1.2)\n",
      "Requirement already satisfied: termcolor~=1.1.0 in /home/tom/miniconda3/envs/seldon-ecg-workshop/lib/python3.7/site-packages (from tensorflow<2.5.0,>=2.0.0->alibi-detect==0.6.1) (1.1.0)\n",
      "Requirement already satisfied: typing-extensions~=3.7.4 in /home/tom/miniconda3/envs/seldon-ecg-workshop/lib/python3.7/site-packages (from tensorflow<2.5.0,>=2.0.0->alibi-detect==0.6.1) (3.7.4.3)\n",
      "Requirement already satisfied: wrapt~=1.12.1 in /home/tom/miniconda3/envs/seldon-ecg-workshop/lib/python3.7/site-packages (from tensorflow<2.5.0,>=2.0.0->alibi-detect==0.6.1) (1.12.1)\n",
      "Requirement already satisfied: grpcio~=1.32.0 in /home/tom/miniconda3/envs/seldon-ecg-workshop/lib/python3.7/site-packages (from tensorflow<2.5.0,>=2.0.0->alibi-detect==0.6.1) (1.32.0)\n",
      "Requirement already satisfied: tensorboard~=2.4 in /home/tom/miniconda3/envs/seldon-ecg-workshop/lib/python3.7/site-packages (from tensorflow<2.5.0,>=2.0.0->alibi-detect==0.6.1) (2.7.0)\n",
      "Requirement already satisfied: absl-py~=0.10 in /home/tom/miniconda3/envs/seldon-ecg-workshop/lib/python3.7/site-packages (from tensorflow<2.5.0,>=2.0.0->alibi-detect==0.6.1) (0.15.0)\n",
      "Requirement already satisfied: wheel~=0.35 in /home/tom/miniconda3/envs/seldon-ecg-workshop/lib/python3.7/site-packages (from tensorflow<2.5.0,>=2.0.0->alibi-detect==0.6.1) (0.37.0)\n",
      "Requirement already satisfied: gast==0.3.3 in /home/tom/miniconda3/envs/seldon-ecg-workshop/lib/python3.7/site-packages (from tensorflow<2.5.0,>=2.0.0->alibi-detect==0.6.1) (0.3.3)\n",
      "Requirement already satisfied: flatbuffers~=1.12.0 in /home/tom/miniconda3/envs/seldon-ecg-workshop/lib/python3.7/site-packages (from tensorflow<2.5.0,>=2.0.0->alibi-detect==0.6.1) (1.12)\n",
      "Requirement already satisfied: astunparse~=1.6.3 in /home/tom/miniconda3/envs/seldon-ecg-workshop/lib/python3.7/site-packages (from tensorflow<2.5.0,>=2.0.0->alibi-detect==0.6.1) (1.6.3)\n",
      "Requirement already satisfied: protobuf>=3.9.2 in /home/tom/miniconda3/envs/seldon-ecg-workshop/lib/python3.7/site-packages (from tensorflow<2.5.0,>=2.0.0->alibi-detect==0.6.1) (3.19.1)\n",
      "Requirement already satisfied: h5py~=2.10.0 in /home/tom/miniconda3/envs/seldon-ecg-workshop/lib/python3.7/site-packages (from tensorflow<2.5.0,>=2.0.0->alibi-detect==0.6.1) (2.10.0)\n"
     ]
    },
    {
     "name": "stdout",
     "output_type": "stream",
     "text": [
      "Requirement already satisfied: werkzeug>=0.11.15 in /home/tom/miniconda3/envs/seldon-ecg-workshop/lib/python3.7/site-packages (from tensorboard~=2.4->tensorflow<2.5.0,>=2.0.0->alibi-detect==0.6.1) (2.0.2)\n",
      "Requirement already satisfied: requests<3,>=2.21.0 in /home/tom/miniconda3/envs/seldon-ecg-workshop/lib/python3.7/site-packages (from tensorboard~=2.4->tensorflow<2.5.0,>=2.0.0->alibi-detect==0.6.1) (2.26.0)\n",
      "Requirement already satisfied: google-auth-oauthlib<0.5,>=0.4.1 in /home/tom/miniconda3/envs/seldon-ecg-workshop/lib/python3.7/site-packages (from tensorboard~=2.4->tensorflow<2.5.0,>=2.0.0->alibi-detect==0.6.1) (0.4.6)\n",
      "Requirement already satisfied: setuptools>=41.0.0 in /home/tom/miniconda3/envs/seldon-ecg-workshop/lib/python3.7/site-packages (from tensorboard~=2.4->tensorflow<2.5.0,>=2.0.0->alibi-detect==0.6.1) (58.0.4)\n",
      "Requirement already satisfied: tensorboard-data-server<0.7.0,>=0.6.0 in /home/tom/miniconda3/envs/seldon-ecg-workshop/lib/python3.7/site-packages (from tensorboard~=2.4->tensorflow<2.5.0,>=2.0.0->alibi-detect==0.6.1) (0.6.1)\n",
      "Requirement already satisfied: markdown>=2.6.8 in /home/tom/miniconda3/envs/seldon-ecg-workshop/lib/python3.7/site-packages (from tensorboard~=2.4->tensorflow<2.5.0,>=2.0.0->alibi-detect==0.6.1) (3.3.4)\n",
      "Requirement already satisfied: google-auth<3,>=1.6.3 in /home/tom/miniconda3/envs/seldon-ecg-workshop/lib/python3.7/site-packages (from tensorboard~=2.4->tensorflow<2.5.0,>=2.0.0->alibi-detect==0.6.1) (2.3.3)\n",
      "Requirement already satisfied: tensorboard-plugin-wit>=1.6.0 in /home/tom/miniconda3/envs/seldon-ecg-workshop/lib/python3.7/site-packages (from tensorboard~=2.4->tensorflow<2.5.0,>=2.0.0->alibi-detect==0.6.1) (1.8.0)\n",
      "Requirement already satisfied: cachetools<5.0,>=2.0.0 in /home/tom/miniconda3/envs/seldon-ecg-workshop/lib/python3.7/site-packages (from google-auth<3,>=1.6.3->tensorboard~=2.4->tensorflow<2.5.0,>=2.0.0->alibi-detect==0.6.1) (4.2.4)\n",
      "Requirement already satisfied: pyasn1-modules>=0.2.1 in /home/tom/miniconda3/envs/seldon-ecg-workshop/lib/python3.7/site-packages (from google-auth<3,>=1.6.3->tensorboard~=2.4->tensorflow<2.5.0,>=2.0.0->alibi-detect==0.6.1) (0.2.8)\n",
      "Requirement already satisfied: rsa<5,>=3.1.4 in /home/tom/miniconda3/envs/seldon-ecg-workshop/lib/python3.7/site-packages (from google-auth<3,>=1.6.3->tensorboard~=2.4->tensorflow<2.5.0,>=2.0.0->alibi-detect==0.6.1) (4.7.2)\n",
      "Requirement already satisfied: requests-oauthlib>=0.7.0 in /home/tom/miniconda3/envs/seldon-ecg-workshop/lib/python3.7/site-packages (from google-auth-oauthlib<0.5,>=0.4.1->tensorboard~=2.4->tensorflow<2.5.0,>=2.0.0->alibi-detect==0.6.1) (1.3.0)\n",
      "Requirement already satisfied: importlib-metadata in /home/tom/miniconda3/envs/seldon-ecg-workshop/lib/python3.7/site-packages (from markdown>=2.6.8->tensorboard~=2.4->tensorflow<2.5.0,>=2.0.0->alibi-detect==0.6.1) (4.8.1)\n",
      "Requirement already satisfied: pyasn1<0.5.0,>=0.4.6 in /home/tom/miniconda3/envs/seldon-ecg-workshop/lib/python3.7/site-packages (from pyasn1-modules>=0.2.1->google-auth<3,>=1.6.3->tensorboard~=2.4->tensorflow<2.5.0,>=2.0.0->alibi-detect==0.6.1) (0.4.8)\n",
      "Requirement already satisfied: urllib3<1.27,>=1.21.1 in /home/tom/miniconda3/envs/seldon-ecg-workshop/lib/python3.7/site-packages (from requests<3,>=2.21.0->tensorboard~=2.4->tensorflow<2.5.0,>=2.0.0->alibi-detect==0.6.1) (1.26.7)\n",
      "Requirement already satisfied: idna<4,>=2.5 in /home/tom/miniconda3/envs/seldon-ecg-workshop/lib/python3.7/site-packages (from requests<3,>=2.21.0->tensorboard~=2.4->tensorflow<2.5.0,>=2.0.0->alibi-detect==0.6.1) (3.3)\n",
      "Requirement already satisfied: charset-normalizer~=2.0.0 in /home/tom/miniconda3/envs/seldon-ecg-workshop/lib/python3.7/site-packages (from requests<3,>=2.21.0->tensorboard~=2.4->tensorflow<2.5.0,>=2.0.0->alibi-detect==0.6.1) (2.0.7)\n",
      "Requirement already satisfied: certifi>=2017.4.17 in /home/tom/miniconda3/envs/seldon-ecg-workshop/lib/python3.7/site-packages (from requests<3,>=2.21.0->tensorboard~=2.4->tensorflow<2.5.0,>=2.0.0->alibi-detect==0.6.1) (2021.10.8)\n",
      "Requirement already satisfied: oauthlib>=3.0.0 in /home/tom/miniconda3/envs/seldon-ecg-workshop/lib/python3.7/site-packages (from requests-oauthlib>=0.7.0->google-auth-oauthlib<0.5,>=0.4.1->tensorboard~=2.4->tensorflow<2.5.0,>=2.0.0->alibi-detect==0.6.1) (3.1.1)\n",
      "Requirement already satisfied: decorator in /home/tom/miniconda3/envs/seldon-ecg-workshop/lib/python3.7/site-packages (from tensorflow-probability<0.13.0,>=0.8.0->alibi-detect==0.6.1) (5.1.0)\n",
      "Requirement already satisfied: dm-tree in /home/tom/miniconda3/envs/seldon-ecg-workshop/lib/python3.7/site-packages (from tensorflow-probability<0.13.0,>=0.8.0->alibi-detect==0.6.1) (0.1.6)\n",
      "Requirement already satisfied: cloudpickle>=1.3 in /home/tom/miniconda3/envs/seldon-ecg-workshop/lib/python3.7/site-packages (from tensorflow-probability<0.13.0,>=0.8.0->alibi-detect==0.6.1) (2.0.0)\n",
      "Requirement already satisfied: pyyaml>=5.1 in /home/tom/miniconda3/envs/seldon-ecg-workshop/lib/python3.7/site-packages (from transformers<5.0.0,>=2.10.0->alibi-detect==0.6.1) (6.0)\n",
      "Requirement already satisfied: sacremoses in /home/tom/miniconda3/envs/seldon-ecg-workshop/lib/python3.7/site-packages (from transformers<5.0.0,>=2.10.0->alibi-detect==0.6.1) (0.0.46)\n",
      "Requirement already satisfied: tqdm>=4.27 in /home/tom/miniconda3/envs/seldon-ecg-workshop/lib/python3.7/site-packages (from transformers<5.0.0,>=2.10.0->alibi-detect==0.6.1) (4.62.3)\n",
      "Requirement already satisfied: tokenizers<0.11,>=0.10.1 in /home/tom/miniconda3/envs/seldon-ecg-workshop/lib/python3.7/site-packages (from transformers<5.0.0,>=2.10.0->alibi-detect==0.6.1) (0.10.3)\n",
      "Requirement already satisfied: regex!=2019.12.17 in /home/tom/miniconda3/envs/seldon-ecg-workshop/lib/python3.7/site-packages (from transformers<5.0.0,>=2.10.0->alibi-detect==0.6.1) (2021.11.2)\n",
      "Requirement already satisfied: huggingface-hub<1.0,>=0.1.0 in /home/tom/miniconda3/envs/seldon-ecg-workshop/lib/python3.7/site-packages (from transformers<5.0.0,>=2.10.0->alibi-detect==0.6.1) (0.1.1)\n",
      "Requirement already satisfied: filelock in /home/tom/miniconda3/envs/seldon-ecg-workshop/lib/python3.7/site-packages (from transformers<5.0.0,>=2.10.0->alibi-detect==0.6.1) (3.3.2)\n",
      "Requirement already satisfied: packaging>=20.0 in /home/tom/miniconda3/envs/seldon-ecg-workshop/lib/python3.7/site-packages (from transformers<5.0.0,>=2.10.0->alibi-detect==0.6.1) (21.0)\n",
      "Requirement already satisfied: zipp>=0.5 in /home/tom/miniconda3/envs/seldon-ecg-workshop/lib/python3.7/site-packages (from importlib-metadata->markdown>=2.6.8->tensorboard~=2.4->tensorflow<2.5.0,>=2.0.0->alibi-detect==0.6.1) (3.6.0)\n",
      "Requirement already satisfied: click in /home/tom/miniconda3/envs/seldon-ecg-workshop/lib/python3.7/site-packages (from sacremoses->transformers<5.0.0,>=2.10.0->alibi-detect==0.6.1) (8.0.3)\n"
     ]
    }
   ],
   "source": [
    "# Colab has a load of packages pre-loaded into the environment. Installing the additional ones we require here.\n",
    "!pip install seldon-deploy-sdk==1.4.1\n",
    "!pip install alibi-detect==0.6.1\n",
    "!pip install seaborn\n",
    "!pip install dill"
   ]
  },
  {
   "cell_type": "code",
   "execution_count": 85,
   "metadata": {
    "_cell_guid": "79c7e3d0-c299-4dcb-8224-4455121ee9b0",
    "_uuid": "d629ff2d2480ee46fbb7e2d37f6b5fab8052498a",
    "id": "9fJyFQQswDDw"
   },
   "outputs": [],
   "source": [
    "# Data manipulation\n",
    "import numpy as np\n",
    "import pandas as pd\n",
    "\n",
    "# Visualisation\n",
    "import seaborn as sns\n",
    "import matplotlib.pyplot as plt\n",
    "\n",
    "# Scikit-learn for scoring models\n",
    "from sklearn.metrics import classification_report\n",
    "from sklearn.model_selection import train_test_split\n",
    "from sklearn.metrics import f1_score\n",
    "from sklearn.metrics import confusion_matrix\n",
    "from sklearn.utils import class_weight\n",
    "from sklearn.utils import resample\n",
    "\n",
    "# Keras acts as the model training library\n",
    "from tensorflow import keras \n",
    "from tensorflow.keras.layers import Dense, Convolution1D, MaxPool1D, Flatten, Dropout\n",
    "from tensorflow.keras.layers import Input\n",
    "from tensorflow.keras.models import Model, load_model\n",
    "from tensorflow.keras.layers import BatchNormalization\n",
    "from tensorflow.keras.callbacks import EarlyStopping, ModelCheckpoint\n",
    "from tensorflow.keras.utils import to_categorical\n",
    "\n",
    "# Drift detection\n",
    "from alibi_detect.cd import MMDDrift, KSDrift\n",
    "from alibi_detect.cd.base import BaseUnivariateDrift\n",
    "from alibi_detect.utils.saving import save_detector, load_detector\n",
    "\n",
    "# Seldon Deploy SDK \n",
    "from seldon_deploy_sdk import Configuration, ApiClient, SeldonDeploymentsApi, DriftDetectorApi\n",
    "from seldon_deploy_sdk.auth import OIDCAuthenticator\n",
    "\n",
    "# For loading serialised objects\n",
    "import dill \n",
    "\n",
    "# Utility library\n",
    "import itertools"
   ]
  },
  {
   "cell_type": "markdown",
   "metadata": {
    "id": "RS46AwV7SLM8"
   },
   "source": [
    "## Data Exploration\n",
    "\n",
    "Download and unpack training and test data"
   ]
  },
  {
   "cell_type": "code",
   "execution_count": 2,
   "metadata": {
    "id": "X_1YBFJ-UJu-",
    "scrolled": true
   },
   "outputs": [
    {
     "name": "stdout",
     "output_type": "stream",
     "text": [
      "--2021-11-11 17:09:18--  https://storage.googleapis.com/seldon-koz-ecg/data/mitbih_test.csv.zip\n",
      "Resolving storage.googleapis.com (storage.googleapis.com)... 172.217.164.112, 142.250.189.240, 142.250.72.208, ...\n",
      "Connecting to storage.googleapis.com (storage.googleapis.com)|172.217.164.112|:443... connected.\n",
      "HTTP request sent, awaiting response... 200 OK\n",
      "Length: 17444159 (17M) [application/zip]\n",
      "Saving to: ‘mitbih_test.csv.zip’\n",
      "\n",
      "mitbih_test.csv.zip 100%[===================>]  16.64M  5.37MB/s    in 3.1s    \n",
      "\n",
      "2021-11-11 17:09:22 (5.37 MB/s) - ‘mitbih_test.csv.zip’ saved [17444159/17444159]\n",
      "\n",
      "--2021-11-11 17:09:22--  https://storage.googleapis.com/seldon-koz-ecg/data/mitbih_train.csv.zip\n",
      "Resolving storage.googleapis.com (storage.googleapis.com)... 142.250.188.16, 172.217.6.48, 172.217.5.112, ...\n",
      "Connecting to storage.googleapis.com (storage.googleapis.com)|142.250.188.16|:443... connected.\n",
      "HTTP request sent, awaiting response... 200 OK\n",
      "Length: 69854187 (67M) [application/zip]\n",
      "Saving to: ‘mitbih_train.csv.zip’\n",
      "\n",
      "mitbih_train.csv.zi 100%[===================>]  66.62M  4.13MB/s    in 14s     \n",
      "\n",
      "2021-11-11 17:09:36 (4.92 MB/s) - ‘mitbih_train.csv.zip’ saved [69854187/69854187]\n",
      "\n",
      "Archive:  mitbih_test.csv.zip\n",
      "replace mitbih_test.csv? [y]es, [n]o, [A]ll, [N]one, [r]ename: ^C\n",
      "Archive:  mitbih_train.csv.zip\n",
      "replace mitbih_train.csv? [y]es, [n]o, [A]ll, [N]one, [r]ename: ^C\n"
     ]
    }
   ],
   "source": [
    "!wget https://storage.googleapis.com/seldon-koz-ecg/data/mitbih_test.csv.zip\n",
    "!wget https://storage.googleapis.com/seldon-koz-ecg/data/mitbih_train.csv.zip\n",
    "!unzip 'mitbih_test.csv.zip'\n",
    "!unzip 'mitbih_train.csv.zip'"
   ]
  },
  {
   "cell_type": "markdown",
   "metadata": {},
   "source": [
    "This workshop uses ECG data collected from Beth Israel Hospital Arrhythmia Laboratory between 1975 and 1979. The subjects were 25 men aged 32 to 89 years, and 22 women aged 23 to 89 years. Data was collected using a Holter monitor. You can find out more about the dataset [here](https://physionet.org/content/mitdb/1.0.0/).\n",
    "\n",
    "**About the dataset**\n",
    "\n",
    "* Number of Samples: 109446\n",
    "* Number of Categories: 5\n",
    "* Sampling Frequency: 125Hz\n",
    "* Data Source: Physionet's MIT-BIH Arrhythmia Dataset\n",
    "* Classes: ['N': 0, 'S': 1, 'V': 2, 'F': 3, 'Q': 4]\n",
    "\n",
    "**Labels**\n",
    "\n",
    "* N : Non-ecotic beats (normal beat) \n",
    "* S : Supraventricular ectopic beats \n",
    "* V : Ventricular ectopic beats \n",
    "* F : Fusion Beats \n",
    "* Q : Unknown Beats\n",
    "\n",
    "More understanding around the labels: an ectopic beat is an extra beat which occurs prior to a normal beat. Fusion beats are a hybrid complex when a supraventricular (top section of your heart) and a ventricular (bottom section of the heart) impulse coincide. \n",
    "\n",
    "Next, we read the training and test data into Pandas."
   ]
  },
  {
   "cell_type": "code",
   "execution_count": 3,
   "metadata": {
    "id": "3OXXmt7VwDDx"
   },
   "outputs": [
    {
     "data": {
      "text/html": [
       "<div>\n",
       "<style scoped>\n",
       "    .dataframe tbody tr th:only-of-type {\n",
       "        vertical-align: middle;\n",
       "    }\n",
       "\n",
       "    .dataframe tbody tr th {\n",
       "        vertical-align: top;\n",
       "    }\n",
       "\n",
       "    .dataframe thead th {\n",
       "        text-align: right;\n",
       "    }\n",
       "</style>\n",
       "<table border=\"1\" class=\"dataframe\">\n",
       "  <thead>\n",
       "    <tr style=\"text-align: right;\">\n",
       "      <th></th>\n",
       "      <th>0</th>\n",
       "      <th>1</th>\n",
       "      <th>2</th>\n",
       "      <th>3</th>\n",
       "      <th>4</th>\n",
       "      <th>5</th>\n",
       "      <th>6</th>\n",
       "      <th>7</th>\n",
       "      <th>8</th>\n",
       "      <th>9</th>\n",
       "      <th>...</th>\n",
       "      <th>178</th>\n",
       "      <th>179</th>\n",
       "      <th>180</th>\n",
       "      <th>181</th>\n",
       "      <th>182</th>\n",
       "      <th>183</th>\n",
       "      <th>184</th>\n",
       "      <th>185</th>\n",
       "      <th>186</th>\n",
       "      <th>187</th>\n",
       "    </tr>\n",
       "  </thead>\n",
       "  <tbody>\n",
       "    <tr>\n",
       "      <th>count</th>\n",
       "      <td>87554.000000</td>\n",
       "      <td>87554.000000</td>\n",
       "      <td>87554.000000</td>\n",
       "      <td>87554.000000</td>\n",
       "      <td>87554.000000</td>\n",
       "      <td>87554.000000</td>\n",
       "      <td>87554.000000</td>\n",
       "      <td>87554.000000</td>\n",
       "      <td>87554.000000</td>\n",
       "      <td>87554.000000</td>\n",
       "      <td>...</td>\n",
       "      <td>87554.000000</td>\n",
       "      <td>87554.000000</td>\n",
       "      <td>87554.000000</td>\n",
       "      <td>87554.000000</td>\n",
       "      <td>87554.000000</td>\n",
       "      <td>87554.000000</td>\n",
       "      <td>87554.000000</td>\n",
       "      <td>87554.000000</td>\n",
       "      <td>87554.000000</td>\n",
       "      <td>87554.000000</td>\n",
       "    </tr>\n",
       "    <tr>\n",
       "      <th>mean</th>\n",
       "      <td>0.890360</td>\n",
       "      <td>0.758160</td>\n",
       "      <td>0.423972</td>\n",
       "      <td>0.219104</td>\n",
       "      <td>0.201127</td>\n",
       "      <td>0.210399</td>\n",
       "      <td>0.205808</td>\n",
       "      <td>0.201773</td>\n",
       "      <td>0.198691</td>\n",
       "      <td>0.196757</td>\n",
       "      <td>...</td>\n",
       "      <td>0.005025</td>\n",
       "      <td>0.004628</td>\n",
       "      <td>0.004291</td>\n",
       "      <td>0.003945</td>\n",
       "      <td>0.003681</td>\n",
       "      <td>0.003471</td>\n",
       "      <td>0.003221</td>\n",
       "      <td>0.002945</td>\n",
       "      <td>0.002807</td>\n",
       "      <td>0.473376</td>\n",
       "    </tr>\n",
       "    <tr>\n",
       "      <th>std</th>\n",
       "      <td>0.240909</td>\n",
       "      <td>0.221813</td>\n",
       "      <td>0.227305</td>\n",
       "      <td>0.206878</td>\n",
       "      <td>0.177058</td>\n",
       "      <td>0.171909</td>\n",
       "      <td>0.178481</td>\n",
       "      <td>0.177240</td>\n",
       "      <td>0.171778</td>\n",
       "      <td>0.168357</td>\n",
       "      <td>...</td>\n",
       "      <td>0.044154</td>\n",
       "      <td>0.042089</td>\n",
       "      <td>0.040525</td>\n",
       "      <td>0.038651</td>\n",
       "      <td>0.037193</td>\n",
       "      <td>0.036255</td>\n",
       "      <td>0.034789</td>\n",
       "      <td>0.032865</td>\n",
       "      <td>0.031924</td>\n",
       "      <td>1.143184</td>\n",
       "    </tr>\n",
       "    <tr>\n",
       "      <th>min</th>\n",
       "      <td>0.000000</td>\n",
       "      <td>0.000000</td>\n",
       "      <td>0.000000</td>\n",
       "      <td>0.000000</td>\n",
       "      <td>0.000000</td>\n",
       "      <td>0.000000</td>\n",
       "      <td>0.000000</td>\n",
       "      <td>0.000000</td>\n",
       "      <td>0.000000</td>\n",
       "      <td>0.000000</td>\n",
       "      <td>...</td>\n",
       "      <td>0.000000</td>\n",
       "      <td>0.000000</td>\n",
       "      <td>0.000000</td>\n",
       "      <td>0.000000</td>\n",
       "      <td>0.000000</td>\n",
       "      <td>0.000000</td>\n",
       "      <td>0.000000</td>\n",
       "      <td>0.000000</td>\n",
       "      <td>0.000000</td>\n",
       "      <td>0.000000</td>\n",
       "    </tr>\n",
       "    <tr>\n",
       "      <th>25%</th>\n",
       "      <td>0.921922</td>\n",
       "      <td>0.682486</td>\n",
       "      <td>0.250969</td>\n",
       "      <td>0.048458</td>\n",
       "      <td>0.082329</td>\n",
       "      <td>0.088416</td>\n",
       "      <td>0.073333</td>\n",
       "      <td>0.066116</td>\n",
       "      <td>0.065000</td>\n",
       "      <td>0.068639</td>\n",
       "      <td>...</td>\n",
       "      <td>0.000000</td>\n",
       "      <td>0.000000</td>\n",
       "      <td>0.000000</td>\n",
       "      <td>0.000000</td>\n",
       "      <td>0.000000</td>\n",
       "      <td>0.000000</td>\n",
       "      <td>0.000000</td>\n",
       "      <td>0.000000</td>\n",
       "      <td>0.000000</td>\n",
       "      <td>0.000000</td>\n",
       "    </tr>\n",
       "    <tr>\n",
       "      <th>50%</th>\n",
       "      <td>0.991342</td>\n",
       "      <td>0.826013</td>\n",
       "      <td>0.429472</td>\n",
       "      <td>0.166000</td>\n",
       "      <td>0.147878</td>\n",
       "      <td>0.158798</td>\n",
       "      <td>0.145324</td>\n",
       "      <td>0.144424</td>\n",
       "      <td>0.150000</td>\n",
       "      <td>0.148734</td>\n",
       "      <td>...</td>\n",
       "      <td>0.000000</td>\n",
       "      <td>0.000000</td>\n",
       "      <td>0.000000</td>\n",
       "      <td>0.000000</td>\n",
       "      <td>0.000000</td>\n",
       "      <td>0.000000</td>\n",
       "      <td>0.000000</td>\n",
       "      <td>0.000000</td>\n",
       "      <td>0.000000</td>\n",
       "      <td>0.000000</td>\n",
       "    </tr>\n",
       "    <tr>\n",
       "      <th>75%</th>\n",
       "      <td>1.000000</td>\n",
       "      <td>0.910506</td>\n",
       "      <td>0.578767</td>\n",
       "      <td>0.341727</td>\n",
       "      <td>0.258993</td>\n",
       "      <td>0.287628</td>\n",
       "      <td>0.298237</td>\n",
       "      <td>0.295391</td>\n",
       "      <td>0.290832</td>\n",
       "      <td>0.283636</td>\n",
       "      <td>...</td>\n",
       "      <td>0.000000</td>\n",
       "      <td>0.000000</td>\n",
       "      <td>0.000000</td>\n",
       "      <td>0.000000</td>\n",
       "      <td>0.000000</td>\n",
       "      <td>0.000000</td>\n",
       "      <td>0.000000</td>\n",
       "      <td>0.000000</td>\n",
       "      <td>0.000000</td>\n",
       "      <td>0.000000</td>\n",
       "    </tr>\n",
       "    <tr>\n",
       "      <th>max</th>\n",
       "      <td>1.000000</td>\n",
       "      <td>1.000000</td>\n",
       "      <td>1.000000</td>\n",
       "      <td>1.000000</td>\n",
       "      <td>1.000000</td>\n",
       "      <td>1.000000</td>\n",
       "      <td>1.000000</td>\n",
       "      <td>1.000000</td>\n",
       "      <td>1.000000</td>\n",
       "      <td>1.000000</td>\n",
       "      <td>...</td>\n",
       "      <td>1.000000</td>\n",
       "      <td>1.000000</td>\n",
       "      <td>1.000000</td>\n",
       "      <td>1.000000</td>\n",
       "      <td>1.000000</td>\n",
       "      <td>1.000000</td>\n",
       "      <td>1.000000</td>\n",
       "      <td>1.000000</td>\n",
       "      <td>1.000000</td>\n",
       "      <td>4.000000</td>\n",
       "    </tr>\n",
       "  </tbody>\n",
       "</table>\n",
       "<p>8 rows × 188 columns</p>\n",
       "</div>"
      ],
      "text/plain": [
       "                0             1             2             3             4    \\\n",
       "count  87554.000000  87554.000000  87554.000000  87554.000000  87554.000000   \n",
       "mean       0.890360      0.758160      0.423972      0.219104      0.201127   \n",
       "std        0.240909      0.221813      0.227305      0.206878      0.177058   \n",
       "min        0.000000      0.000000      0.000000      0.000000      0.000000   \n",
       "25%        0.921922      0.682486      0.250969      0.048458      0.082329   \n",
       "50%        0.991342      0.826013      0.429472      0.166000      0.147878   \n",
       "75%        1.000000      0.910506      0.578767      0.341727      0.258993   \n",
       "max        1.000000      1.000000      1.000000      1.000000      1.000000   \n",
       "\n",
       "                5             6             7             8             9    \\\n",
       "count  87554.000000  87554.000000  87554.000000  87554.000000  87554.000000   \n",
       "mean       0.210399      0.205808      0.201773      0.198691      0.196757   \n",
       "std        0.171909      0.178481      0.177240      0.171778      0.168357   \n",
       "min        0.000000      0.000000      0.000000      0.000000      0.000000   \n",
       "25%        0.088416      0.073333      0.066116      0.065000      0.068639   \n",
       "50%        0.158798      0.145324      0.144424      0.150000      0.148734   \n",
       "75%        0.287628      0.298237      0.295391      0.290832      0.283636   \n",
       "max        1.000000      1.000000      1.000000      1.000000      1.000000   \n",
       "\n",
       "       ...           178           179           180           181  \\\n",
       "count  ...  87554.000000  87554.000000  87554.000000  87554.000000   \n",
       "mean   ...      0.005025      0.004628      0.004291      0.003945   \n",
       "std    ...      0.044154      0.042089      0.040525      0.038651   \n",
       "min    ...      0.000000      0.000000      0.000000      0.000000   \n",
       "25%    ...      0.000000      0.000000      0.000000      0.000000   \n",
       "50%    ...      0.000000      0.000000      0.000000      0.000000   \n",
       "75%    ...      0.000000      0.000000      0.000000      0.000000   \n",
       "max    ...      1.000000      1.000000      1.000000      1.000000   \n",
       "\n",
       "                182           183           184           185           186  \\\n",
       "count  87554.000000  87554.000000  87554.000000  87554.000000  87554.000000   \n",
       "mean       0.003681      0.003471      0.003221      0.002945      0.002807   \n",
       "std        0.037193      0.036255      0.034789      0.032865      0.031924   \n",
       "min        0.000000      0.000000      0.000000      0.000000      0.000000   \n",
       "25%        0.000000      0.000000      0.000000      0.000000      0.000000   \n",
       "50%        0.000000      0.000000      0.000000      0.000000      0.000000   \n",
       "75%        0.000000      0.000000      0.000000      0.000000      0.000000   \n",
       "max        1.000000      1.000000      1.000000      1.000000      1.000000   \n",
       "\n",
       "                187  \n",
       "count  87554.000000  \n",
       "mean       0.473376  \n",
       "std        1.143184  \n",
       "min        0.000000  \n",
       "25%        0.000000  \n",
       "50%        0.000000  \n",
       "75%        0.000000  \n",
       "max        4.000000  \n",
       "\n",
       "[8 rows x 188 columns]"
      ]
     },
     "execution_count": 3,
     "metadata": {},
     "output_type": "execute_result"
    }
   ],
   "source": [
    "train_df=pd.read_csv('mitbih_train.csv',header=None)\n",
    "test_df=pd.read_csv('mitbih_test.csv',header=None)\n",
    "\n",
    "train_df.describe()"
   ]
  },
  {
   "cell_type": "markdown",
   "metadata": {
    "id": "RK6JdZl-wDDy"
   },
   "source": [
    "Each row is a single beat cycle, with each of the features a reading of the electrical activity across that cycle."
   ]
  },
  {
   "cell_type": "code",
   "execution_count": 4,
   "metadata": {},
   "outputs": [
    {
     "data": {
      "text/plain": [
       "0      0.977941\n",
       "1      0.926471\n",
       "2      0.681373\n",
       "3      0.245098\n",
       "4      0.154412\n",
       "         ...   \n",
       "183    0.000000\n",
       "184    0.000000\n",
       "185    0.000000\n",
       "186    0.000000\n",
       "187    0.000000\n",
       "Name: 0, Length: 188, dtype: float64"
      ]
     },
     "execution_count": 4,
     "metadata": {},
     "output_type": "execute_result"
    }
   ],
   "source": [
    "train_df.iloc[0]"
   ]
  },
  {
   "cell_type": "markdown",
   "metadata": {},
   "source": [
    "Converting the labels to integers, and counting each of their values. "
   ]
  },
  {
   "cell_type": "code",
   "execution_count": 5,
   "metadata": {
    "id": "j7Gu18OLwDDy"
   },
   "outputs": [
    {
     "name": "stdout",
     "output_type": "stream",
     "text": [
      "0    72471\n",
      "4     6431\n",
      "2     5788\n",
      "1     2223\n",
      "3      641\n",
      "Name: 187, dtype: int64\n"
     ]
    }
   ],
   "source": [
    "train_df[187]=train_df[187].astype(int)\n",
    "label_counts=train_df[187].value_counts()\n",
    "print(label_counts)"
   ]
  },
  {
   "cell_type": "markdown",
   "metadata": {},
   "source": [
    "Visualising the label imbalance with a doughnut chart. "
   ]
  },
  {
   "cell_type": "code",
   "execution_count": 6,
   "metadata": {
    "id": "7jZlk7R_wDDy"
   },
   "outputs": [
    {
     "data": {
      "image/png": "[encoded data removed]",
      "text/plain": [
       "<Figure size 1008x504 with 1 Axes>"
      ]
     },
     "metadata": {},
     "output_type": "display_data"
    }
   ],
   "source": [
    "plt.figure(figsize=(14,7))\n",
    "my_circle=plt.Circle((0,0), 0.7, color='white')\n",
    "plt.pie(label_counts, labels=['n','q','v','s','f'], colors=['red','green','blue','skyblue','orange'],autopct='%1.1f%%')\n",
    "p=plt.gcf()\n",
    "p.gca().add_artist(my_circle)\n",
    "plt.show()"
   ]
  },
  {
   "cell_type": "markdown",
   "metadata": {
    "id": "eSzQxmAlwDDz"
   },
   "source": [
    "Clearly, there is a large imbalance in the labels with over 80% of them representing normal heartbeats. This imbalance needs to be rectified in order to create a model which can accurately pick out different types of arrhythmia. \n",
    "\n",
    "Therefore, we select 20,000 normal heartbeat samples. We then resample the remaining classes with replacement to have a resultant dataset with an equal proporition of each class. "
   ]
  },
  {
   "cell_type": "code",
   "execution_count": 7,
   "metadata": {},
   "outputs": [
    {
     "data": {
      "text/plain": [
       "0    20000\n",
       "4    20000\n",
       "2    20000\n",
       "1    20000\n",
       "3    20000\n",
       "Name: 187, dtype: int64"
      ]
     },
     "execution_count": 7,
     "metadata": {},
     "output_type": "execute_result"
    }
   ],
   "source": [
    "random_state = 42\n",
    "\n",
    "label_dfs = {}\n",
    "\n",
    "for i in label_counts.index:\n",
    "    label_dfs[i] = train_df[train_df[187]==i]\n",
    "\n",
    "# The first class has 72k observations, so we sample down to 20000\n",
    "label_dfs[0] = label_dfs[0].sample(n=20000, random_state=random_state)\n",
    "\n",
    "# The remaining classes have less than 20000 observations and therefore we resample with replacement. \n",
    "for i in [1, 2, 3, 4]:\n",
    "    label_dfs[i] = resample(label_dfs[i], replace=True, n_samples=20000, random_state=random_state)\n",
    "    \n",
    "rebalanced_df = pd.concat([i for i in label_dfs.values()])\n",
    "rebalanced_label_counts = rebalanced_df[187].value_counts()\n",
    "rebalanced_label_counts"
   ]
  },
  {
   "cell_type": "markdown",
   "metadata": {
    "id": "1nzn2p6ewDD0"
   },
   "source": [
    "Next we visualise a single instance of each class to see the difference in the signatures which they present.\n",
    "\n",
    "To do so, we create a DataFrame with a single obeservation of each of the classes. "
   ]
  },
  {
   "cell_type": "code",
   "execution_count": 8,
   "metadata": {
    "id": "1mRnvNZ7wDD0"
   },
   "outputs": [
    {
     "data": {
      "text/html": [
       "<div>\n",
       "<style scoped>\n",
       "    .dataframe tbody tr th:only-of-type {\n",
       "        vertical-align: middle;\n",
       "    }\n",
       "\n",
       "    .dataframe tbody tr th {\n",
       "        vertical-align: top;\n",
       "    }\n",
       "\n",
       "    .dataframe thead th {\n",
       "        text-align: right;\n",
       "    }\n",
       "</style>\n",
       "<table border=\"1\" class=\"dataframe\">\n",
       "  <thead>\n",
       "    <tr style=\"text-align: right;\">\n",
       "      <th></th>\n",
       "      <th>0</th>\n",
       "      <th>1</th>\n",
       "      <th>2</th>\n",
       "      <th>3</th>\n",
       "      <th>4</th>\n",
       "      <th>5</th>\n",
       "      <th>6</th>\n",
       "      <th>7</th>\n",
       "      <th>8</th>\n",
       "      <th>9</th>\n",
       "      <th>...</th>\n",
       "      <th>178</th>\n",
       "      <th>179</th>\n",
       "      <th>180</th>\n",
       "      <th>181</th>\n",
       "      <th>182</th>\n",
       "      <th>183</th>\n",
       "      <th>184</th>\n",
       "      <th>185</th>\n",
       "      <th>186</th>\n",
       "      <th>187</th>\n",
       "    </tr>\n",
       "  </thead>\n",
       "  <tbody>\n",
       "    <tr>\n",
       "      <th>56222</th>\n",
       "      <td>0.987705</td>\n",
       "      <td>0.676230</td>\n",
       "      <td>0.045082</td>\n",
       "      <td>0.000000</td>\n",
       "      <td>0.122951</td>\n",
       "      <td>0.110656</td>\n",
       "      <td>0.086066</td>\n",
       "      <td>0.086066</td>\n",
       "      <td>0.098361</td>\n",
       "      <td>0.090164</td>\n",
       "      <td>...</td>\n",
       "      <td>0.0</td>\n",
       "      <td>0.0</td>\n",
       "      <td>0.0</td>\n",
       "      <td>0.0</td>\n",
       "      <td>0.0</td>\n",
       "      <td>0.0</td>\n",
       "      <td>0.0</td>\n",
       "      <td>0.0</td>\n",
       "      <td>0.0</td>\n",
       "      <td>0</td>\n",
       "    </tr>\n",
       "    <tr>\n",
       "      <th>73154</th>\n",
       "      <td>0.946058</td>\n",
       "      <td>0.896266</td>\n",
       "      <td>0.257261</td>\n",
       "      <td>0.004149</td>\n",
       "      <td>0.082988</td>\n",
       "      <td>0.149378</td>\n",
       "      <td>0.145228</td>\n",
       "      <td>0.174274</td>\n",
       "      <td>0.211618</td>\n",
       "      <td>0.195021</td>\n",
       "      <td>...</td>\n",
       "      <td>0.0</td>\n",
       "      <td>0.0</td>\n",
       "      <td>0.0</td>\n",
       "      <td>0.0</td>\n",
       "      <td>0.0</td>\n",
       "      <td>0.0</td>\n",
       "      <td>0.0</td>\n",
       "      <td>0.0</td>\n",
       "      <td>0.0</td>\n",
       "      <td>1</td>\n",
       "    </tr>\n",
       "    <tr>\n",
       "      <th>79100</th>\n",
       "      <td>0.984733</td>\n",
       "      <td>0.946565</td>\n",
       "      <td>0.824427</td>\n",
       "      <td>0.633588</td>\n",
       "      <td>0.470738</td>\n",
       "      <td>0.422392</td>\n",
       "      <td>0.389313</td>\n",
       "      <td>0.470738</td>\n",
       "      <td>0.468193</td>\n",
       "      <td>0.226463</td>\n",
       "      <td>...</td>\n",
       "      <td>0.0</td>\n",
       "      <td>0.0</td>\n",
       "      <td>0.0</td>\n",
       "      <td>0.0</td>\n",
       "      <td>0.0</td>\n",
       "      <td>0.0</td>\n",
       "      <td>0.0</td>\n",
       "      <td>0.0</td>\n",
       "      <td>0.0</td>\n",
       "      <td>2</td>\n",
       "    </tr>\n",
       "    <tr>\n",
       "      <th>80501</th>\n",
       "      <td>0.974775</td>\n",
       "      <td>1.000000</td>\n",
       "      <td>0.655856</td>\n",
       "      <td>0.335135</td>\n",
       "      <td>0.207207</td>\n",
       "      <td>0.153153</td>\n",
       "      <td>0.131532</td>\n",
       "      <td>0.115315</td>\n",
       "      <td>0.099099</td>\n",
       "      <td>0.093694</td>\n",
       "      <td>...</td>\n",
       "      <td>0.0</td>\n",
       "      <td>0.0</td>\n",
       "      <td>0.0</td>\n",
       "      <td>0.0</td>\n",
       "      <td>0.0</td>\n",
       "      <td>0.0</td>\n",
       "      <td>0.0</td>\n",
       "      <td>0.0</td>\n",
       "      <td>0.0</td>\n",
       "      <td>3</td>\n",
       "    </tr>\n",
       "    <tr>\n",
       "      <th>86048</th>\n",
       "      <td>0.757530</td>\n",
       "      <td>0.643072</td>\n",
       "      <td>0.542169</td>\n",
       "      <td>0.420181</td>\n",
       "      <td>0.299699</td>\n",
       "      <td>0.158133</td>\n",
       "      <td>0.084337</td>\n",
       "      <td>0.000000</td>\n",
       "      <td>0.000000</td>\n",
       "      <td>0.024096</td>\n",
       "      <td>...</td>\n",
       "      <td>0.0</td>\n",
       "      <td>0.0</td>\n",
       "      <td>0.0</td>\n",
       "      <td>0.0</td>\n",
       "      <td>0.0</td>\n",
       "      <td>0.0</td>\n",
       "      <td>0.0</td>\n",
       "      <td>0.0</td>\n",
       "      <td>0.0</td>\n",
       "      <td>4</td>\n",
       "    </tr>\n",
       "  </tbody>\n",
       "</table>\n",
       "<p>5 rows × 188 columns</p>\n",
       "</div>"
      ],
      "text/plain": [
       "            0         1         2         3         4         5         6    \\\n",
       "56222  0.987705  0.676230  0.045082  0.000000  0.122951  0.110656  0.086066   \n",
       "73154  0.946058  0.896266  0.257261  0.004149  0.082988  0.149378  0.145228   \n",
       "79100  0.984733  0.946565  0.824427  0.633588  0.470738  0.422392  0.389313   \n",
       "80501  0.974775  1.000000  0.655856  0.335135  0.207207  0.153153  0.131532   \n",
       "86048  0.757530  0.643072  0.542169  0.420181  0.299699  0.158133  0.084337   \n",
       "\n",
       "            7         8         9    ...  178  179  180  181  182  183  184  \\\n",
       "56222  0.086066  0.098361  0.090164  ...  0.0  0.0  0.0  0.0  0.0  0.0  0.0   \n",
       "73154  0.174274  0.211618  0.195021  ...  0.0  0.0  0.0  0.0  0.0  0.0  0.0   \n",
       "79100  0.470738  0.468193  0.226463  ...  0.0  0.0  0.0  0.0  0.0  0.0  0.0   \n",
       "80501  0.115315  0.099099  0.093694  ...  0.0  0.0  0.0  0.0  0.0  0.0  0.0   \n",
       "86048  0.000000  0.000000  0.024096  ...  0.0  0.0  0.0  0.0  0.0  0.0  0.0   \n",
       "\n",
       "       185  186  187  \n",
       "56222  0.0  0.0    0  \n",
       "73154  0.0  0.0    1  \n",
       "79100  0.0  0.0    2  \n",
       "80501  0.0  0.0    3  \n",
       "86048  0.0  0.0    4  \n",
       "\n",
       "[5 rows x 188 columns]"
      ]
     },
     "execution_count": 8,
     "metadata": {},
     "output_type": "execute_result"
    }
   ],
   "source": [
    "sample_df = rebalanced_df.groupby(187, group_keys=False).apply(lambda train_df: train_df.sample(n=1))\n",
    "sample_df"
   ]
  },
  {
   "cell_type": "code",
   "execution_count": 9,
   "metadata": {},
   "outputs": [
    {
     "data": {
      "image/png": "[encoded data removed]",
      "text/plain": [
       "<Figure size 1440x864 with 1 Axes>"
      ]
     },
     "metadata": {
      "needs_background": "light"
     },
     "output_type": "display_data"
    }
   ],
   "source": [
    "plt.figure(figsize=(20,12))\n",
    "\n",
    "plt.plot(sample_df.iloc[0,:186], label=\"Cat. N\")\n",
    "plt.plot(sample_df.iloc[1,:186], label=\"Cat. S\")\n",
    "plt.plot(sample_df.iloc[2,:186], label=\"Cat. V\")\n",
    "plt.plot(sample_df.iloc[3,:186], label=\"Cat. F\")\n",
    "plt.plot(sample_df.iloc[4,:186], label=\"Cat. Q\")\n",
    "\n",
    "plt.legend()\n",
    "plt.title(\"1-beat ECG for every category\", fontsize=20)\n",
    "plt.ylabel(\"Amplitude\", fontsize=15)\n",
    "plt.xlabel(\"Time (ms)\", fontsize=15)\n",
    "\n",
    "plt.show()"
   ]
  },
  {
   "cell_type": "markdown",
   "metadata": {
    "id": "VlRhMOpqwDD4"
   },
   "source": [
    "The final piece of pre-processing we do is to add Gaussian noise to our data. This will help us to generalise to unseen data better, by forcing our model to work harder to detect meaningful signal from random noise. "
   ]
  },
  {
   "cell_type": "code",
   "execution_count": 10,
   "metadata": {
    "id": "s4iFCJORwDD4"
   },
   "outputs": [
    {
     "data": {
      "image/png": "[encoded data removed]",
      "text/plain": [
       "<Figure size 432x288 with 2 Axes>"
      ]
     },
     "metadata": {
      "needs_background": "light"
     },
     "output_type": "display_data"
    }
   ],
   "source": [
    "def add_gaussian_noise(signal):\n",
    "    noise = np.random.normal(0, 0.3, 186)\n",
    "    return (signal + noise)\n",
    "\n",
    "single_sample = sample_df.iloc[0,:186]\n",
    "noisy_sample=add_gaussian_noise(single_sample)\n",
    "\n",
    "plt.subplot(2, 1, 1)\n",
    "plt.plot(sample_df.iloc[0,:186])\n",
    "\n",
    "plt.subplot(2, 1, 2)\n",
    "plt.plot(noisy_sample)\n",
    "\n",
    "plt.show()"
   ]
  },
  {
   "cell_type": "markdown",
   "metadata": {},
   "source": [
    "Applying the Gaussian noise to the training data. "
   ]
  },
  {
   "cell_type": "code",
   "execution_count": 11,
   "metadata": {
    "id": "pieTfZXMwDD4"
   },
   "outputs": [],
   "source": [
    "target_train=train_df[187]\n",
    "target_test=test_df[187]\n",
    "\n",
    "y_train=to_categorical(target_train)\n",
    "y_test=to_categorical(target_test)"
   ]
  },
  {
   "cell_type": "code",
   "execution_count": 12,
   "metadata": {
    "id": "qtPdefhxwDD4"
   },
   "outputs": [],
   "source": [
    "X_train=train_df.iloc[:,:186].values\n",
    "X_test=test_df.iloc[:,:186].values\n",
    "\n",
    "for i in range(len(X_train)):\n",
    "    X_train[i,:186]= add_gaussian_noise(X_train[i,:186])\n",
    "    \n",
    "X_train = X_train.reshape(len(X_train), X_train.shape[1],1)\n",
    "X_test = X_test.reshape(len(X_test), X_test.shape[1],1)"
   ]
  },
  {
   "cell_type": "markdown",
   "metadata": {},
   "source": [
    "## Model Training\n",
    "For the sake of time we will not train our CNN live and use a pre-trained model. \n",
    "\n",
    "This pre-trained model was trained with the following architecture: \n",
    "```\n",
    "# Input\n",
    "in_shape = (X_train.shape[1],1)\n",
    "inputs_cnn = Input(shape=(in_shape), name='inputs_cnn')\n",
    "\n",
    "# 1st convolutional layer\n",
    "conv1_1 = Convolution1D(64, (6), activation='relu', input_shape=in_shape)(inputs_cnn)\n",
    "conv1_1 = BatchNormalization()(conv1_1)\n",
    "pool1 = MaxPool1D(pool_size=(3), strides=(2), padding=\"same\")(conv1_1)\n",
    "\n",
    "# 2nd convolutional layer\n",
    "conv2_1 = Convolution1D(64, (3), activation='relu', input_shape=in_shape)(pool1)\n",
    "conv2_1 = BatchNormalization()(conv2_1)\n",
    "pool2 = MaxPool1D(pool_size=(2), strides=(2), padding=\"same\")(conv2_1)\n",
    "\n",
    "# 3rd convolutional layer\n",
    "conv3_1 = Convolution1D(64, (3), activation='relu', input_shape=in_shape)(pool2)\n",
    "conv3_1 = BatchNormalization()(conv3_1)\n",
    "pool3 = MaxPool1D(pool_size=(2), strides=(2), padding=\"same\")(conv3_1)\n",
    "flatten = Flatten()(pool3)\n",
    "\n",
    "# Output\n",
    "dense_end1 = Dense(64, activation='relu')(flatten)\n",
    "dense_end2 = Dense(32, activation='relu')(dense_end1)\n",
    "main_output = Dense(5, activation='softmax', name='main_output')(dense_end2)\n",
    "\n",
    "```\n",
    "The best model was saved using early stopping at epoch 25 of 40. We load back this pretrained model as well as the training history to explore. "
   ]
  },
  {
   "cell_type": "code",
   "execution_count": 145,
   "metadata": {},
   "outputs": [
    {
     "name": "stdout",
     "output_type": "stream",
     "text": [
      "mkdir: cannot create directory ‘pretrained_model’: File exists\n",
      "Copying gs://tom-seldon-examples/time-series-workshop/1/saved_model.pb...\n",
      "Copying gs://tom-seldon-examples/time-series-workshop/1/variables/variables.data-00000-of-00001...\n",
      "Copying gs://tom-seldon-examples/time-series-workshop/1/variables/variables.index...\n",
      "\\ [3 files][  1.8 MiB/  1.8 MiB]                                                \n",
      "Operation completed over 3 objects/1.8 MiB.                                      \n",
      "Copying gs://tom-seldon-examples/time-series-workshop/history.dill...\n",
      "- [1 files][  484.0 B/  484.0 B]                                                \n",
      "Operation completed over 1 objects/484.0 B.                                      \n"
     ]
    }
   ],
   "source": [
    "!mkdir pretrained_model\n",
    "!gsutil cp -r gs://tom-seldon-examples/time-series-workshop/1 pretrained_model\n",
    "!gsutil cp gs://tom-seldon-examples/time-series-workshop/history.dill history.dill"
   ]
  },
  {
   "cell_type": "code",
   "execution_count": 146,
   "metadata": {
    "scrolled": true
   },
   "outputs": [],
   "source": [
    "model = load_model(\"pretrained_model/1\")\n",
    "\n",
    "with open(\"history.dill\", \"rb\") as file:\n",
    "    history = dill.load(file)"
   ]
  },
  {
   "cell_type": "markdown",
   "metadata": {},
   "source": [
    "We next define a function to evaluate our model training efforts. This plots the training and validation accuracy and losses of our model. "
   ]
  },
  {
   "cell_type": "code",
   "execution_count": 25,
   "metadata": {
    "id": "paZkZN3ewDD5"
   },
   "outputs": [],
   "source": [
    "def evaluate_model(history, X_test, y_test, model):\n",
    "    \"\"\"\n",
    "    Plots line graphs for the training/validation accuracy and losses. \n",
    "    \"\"\"\n",
    "    scores = model.evaluate((X_test), y_test, verbose=0)\n",
    "    print(\"Accuracy: %.2f%%\" % (scores[1]*100))\n",
    "    \n",
    "    fig1, ax_acc = plt.subplots()\n",
    "    plt.plot(history['accuracy'])\n",
    "    plt.plot(history['val_accuracy'])\n",
    "    plt.xlabel('Epoch')\n",
    "    plt.ylabel('Accuracy')\n",
    "    plt.title('Model - Accuracy')\n",
    "    plt.legend(['Training', 'Validation'], loc='lower right')\n",
    "    plt.show()\n",
    "    \n",
    "    fig2, ax_loss = plt.subplots()\n",
    "    plt.xlabel('Epoch')\n",
    "    plt.ylabel('Loss')\n",
    "    plt.title('Model- Loss')\n",
    "    plt.legend(['Training', 'Validation'], loc='upper right')\n",
    "    plt.plot(history['loss'])\n",
    "    plt.plot(history['val_loss'])\n",
    "    plt.show()\n",
    "    target_names=['0','1','2','3','4']    "
   ]
  },
  {
   "cell_type": "markdown",
   "metadata": {
    "id": "Qc1mFFyycAhb"
   },
   "source": [
    "Evaluate the model and make predictions."
   ]
  },
  {
   "cell_type": "code",
   "execution_count": 46,
   "metadata": {
    "id": "GoV3FPc4wDD5",
    "scrolled": false
   },
   "outputs": [
    {
     "name": "stdout",
     "output_type": "stream",
     "text": [
      "Accuracy: 95.80%\n"
     ]
    },
    {
     "data": {
      "image/png": "[encoded data removed]",
      "text/plain": [
       "<Figure size 432x288 with 1 Axes>"
      ]
     },
     "metadata": {
      "needs_background": "light"
     },
     "output_type": "display_data"
    },
    {
     "data": {
      "image/png": "[encoded data removed]",
      "text/plain": [
       "<Figure size 432x288 with 1 Axes>"
      ]
     },
     "metadata": {
      "needs_background": "light"
     },
     "output_type": "display_data"
    }
   ],
   "source": [
    "evaluate_model(history, X_test, y_test, model)"
   ]
  },
  {
   "cell_type": "markdown",
   "metadata": {},
   "source": [
    "Finally we plot a normalised confusion matrix to understand better how our model performs across the multiple classes. "
   ]
  },
  {
   "cell_type": "code",
   "execution_count": 26,
   "metadata": {
    "id": "uzGfpG0dwDD5"
   },
   "outputs": [
    {
     "data": {
      "image/png": "[encoded data removed]",
      "text/plain": [
       "<Figure size 720x720 with 2 Axes>"
      ]
     },
     "metadata": {
      "needs_background": "light"
     },
     "output_type": "display_data"
    }
   ],
   "source": [
    "def plot_confusion_matrix(cm, \n",
    "                          classes,\n",
    "                          title='Confusion matrix',\n",
    "                          cmap=plt.cm.Blues):\n",
    "    \"\"\"\n",
    "    This function prints and plots the normalised confusion matrix.\n",
    "    \"\"\"\n",
    "    cm = cm.astype('float') / cm.sum(axis=1)[:, np.newaxis]\n",
    "\n",
    "    plt.imshow(cm, interpolation='nearest', cmap=cmap)\n",
    "    plt.title(title)\n",
    "    plt.colorbar()\n",
    "    tick_marks = np.arange(len(classes))\n",
    "    plt.xticks(tick_marks, classes, rotation=45)\n",
    "    plt.yticks(tick_marks, classes)\n",
    "\n",
    "    thresh = cm.max() / 2.\n",
    "    for i, j in itertools.product(range(cm.shape[0]), range(cm.shape[1])):\n",
    "        plt.text(j, i, format(cm[i, j], '.2f'),\n",
    "                 horizontalalignment=\"center\",\n",
    "                 color=\"white\" if cm[i, j] > thresh else \"black\")\n",
    "\n",
    "    plt.tight_layout()\n",
    "    plt.ylabel('True label')\n",
    "    plt.xlabel('Predicted label')\n",
    "\n",
    "y_pred=model.predict(X_test)\n",
    "    \n",
    "# Compute confusion matrix\n",
    "cnf_matrix = confusion_matrix(y_test.argmax(axis=1), y_pred.argmax(axis=1))\n",
    "np.set_printoptions(precision=2)\n",
    "\n",
    "# Plot confusion matrix\n",
    "plt.figure(figsize=(10, 10))\n",
    "plot_confusion_matrix(cnf_matrix, classes=['N', 'S', 'V', 'F', 'Q'],\n",
    "                      title='Confusion matrix, with normalization')\n",
    "plt.show()"
   ]
  },
  {
   "cell_type": "markdown",
   "metadata": {},
   "source": [
    "### Deploying the Model\n",
    "We now want to serve our model on the Seldon infrastructure.\n",
    "\n",
    "For this we can use the pre-built Tensorflow container image, which allows us to rapidly deploy our newly trained model using TFServing. \n",
    "\n",
    "Firstly we save our model locally i.e. `model.save(\"pretrained_model\")` \n",
    "\n",
    "We can then push it a cloud storage bucket ready for deployment. This has been done ahead of time and the model can be accessed at the following URI `gs://tom-seldon-examples/time-series-workshop/`\n",
    "\n",
    "-----------\n",
    "\n",
    "A couple of considerations: \n",
    "1. The TF pre-built image uses the SavedModel format, not Kera's older HDF5 format.\n",
    "2. TFServing expects a subdirectory referring to the model version which then contains the model artifacts. You can create this manually when pushing to cloud storage e.g. `gs://tom-seldon-examples/time-series-workshop/1/saved_model.pb`\n",
    "\n",
    "----------\n",
    "\n",
    "We are now ready to deploy to Seldon. We will do this via the Python SDK provided to interact with Seldon Deploy. "
   ]
  },
  {
   "cell_type": "code",
   "execution_count": 122,
   "metadata": {
    "scrolled": true
   },
   "outputs": [],
   "source": [
    "SD_IP = \"34.141.246.254\"\n",
    "\n",
    "config = Configuration()\n",
    "config.host = f\"http://{SD_IP}/seldon-deploy/api/v1alpha1\"\n",
    "config.oidc_client_id = \"sd-api\"\n",
    "config.oidc_server = f\"http://{SD_IP}/auth/realms/deploy-realm\"\n",
    "config.oidc_client_secret = \"sd-api-secret\"\n",
    "config.auth_method = 'client_credentials'\n",
    "\n",
    "def auth():\n",
    "    auth = OIDCAuthenticator(config)\n",
    "    config.id_token = auth.authenticate()\n",
    "    api_client = ApiClient(configuration=config, authenticator=auth)\n",
    "    return api_client"
   ]
  },
  {
   "cell_type": "code",
   "execution_count": 123,
   "metadata": {},
   "outputs": [],
   "source": [
    "YOUR_NAME = \"tom-farrand\"\n",
    "MODEL_NAME = \"cnn\"\n",
    "\n",
    "DEPLOYMENT_NAME = f\"{YOUR_NAME}-{MODEL_NAME}\"\n",
    "MODEL_LOCATION = f\"gs://tom-seldon-examples/time-series-workshop/\""
   ]
  },
  {
   "cell_type": "code",
   "execution_count": 134,
   "metadata": {},
   "outputs": [],
   "source": [
    "NAMESPACE = \"dev\"\n",
    "\n",
    "PREPACKAGED_SERVER = \"TENSORFLOW_SERVER\"\n",
    "\n",
    "CPU_REQUESTS = \"0.1\"\n",
    "MEMORY_REQUESTS = \"1Gi\"\n",
    "\n",
    "CPU_LIMITS = \"0.1\"\n",
    "MEMORY_LIMITS = \"1Gi\"\n",
    "\n",
    "mldeployment = {\n",
    "    \"kind\": \"SeldonDeployment\",\n",
    "    \"metadata\": {\n",
    "        \"name\": DEPLOYMENT_NAME,\n",
    "        \"namespace\": NAMESPACE,\n",
    "        \"labels\": {\n",
    "            \"fluentd\": \"true\"\n",
    "        }\n",
    "    },\n",
    "    \"apiVersion\": \"machinelearning.seldon.io/v1alpha2\",\n",
    "    \"spec\": {\n",
    "        \"name\": DEPLOYMENT_NAME,\n",
    "        \"annotations\": {\n",
    "            \"seldon.io/engine-seldon-log-messages-externally\": \"true\"\n",
    "        },\n",
    "        \"protocol\": \"seldon\",\n",
    "        \"predictors\": [\n",
    "            {\n",
    "                \"componentSpecs\": [\n",
    "                    {\n",
    "                        \"spec\": {\n",
    "                            \"containers\": [\n",
    "                                {\n",
    "                                    \"name\": f\"{DEPLOYMENT_NAME}-container\",\n",
    "                                    \"resources\": {\n",
    "                                        \"requests\": {\n",
    "                                            \"cpu\": CPU_REQUESTS,\n",
    "                                            \"memory\": MEMORY_REQUESTS\n",
    "                                        },\n",
    "                                        \"limits\": {\n",
    "                                            \"cpu\": CPU_LIMITS,\n",
    "                                            \"memory\": MEMORY_LIMITS\n",
    "                                        }\n",
    "                                    }\n",
    "                                }\n",
    "                            ]\n",
    "                        }\n",
    "                    }\n",
    "                ],\n",
    "                \"name\": \"default\",\n",
    "                \"replicas\": 1,\n",
    "                \"traffic\": 100,\n",
    "                \"graph\": {\n",
    "                    \"implementation\": PREPACKAGED_SERVER,\n",
    "                    \"modelUri\": MODEL_LOCATION,\n",
    "                    \"name\": f\"{DEPLOYMENT_NAME}-container\",\n",
    "                    \"endpoint\": {\n",
    "                        \"type\": \"REST\"\n",
    "                    },\n",
    "                    \"parameters\": [],\n",
    "                    \"children\": [],\n",
    "                    \"logger\": {\n",
    "                        \"mode\": \"all\"\n",
    "                    }\n",
    "                }\n",
    "            }\n",
    "        ]\n",
    "    },\n",
    "    \"status\": {}\n",
    "}"
   ]
  },
  {
   "cell_type": "code",
   "execution_count": 135,
   "metadata": {},
   "outputs": [
    {
     "data": {
      "text/plain": [
       "{'api_version': 'machinelearning.seldon.io/v1alpha2',\n",
       " 'kind': 'SeldonDeployment',\n",
       " 'metadata': {'annotations': None,\n",
       "              'cluster_name': None,\n",
       "              'creation_timestamp': None,\n",
       "              'deletion_grace_period_seconds': None,\n",
       "              'deletion_timestamp': None,\n",
       "              'finalizers': None,\n",
       "              'generate_name': None,\n",
       "              'generation': None,\n",
       "              'labels': {'fluentd': 'true'},\n",
       "              'managed_fields': None,\n",
       "              'name': 'tom-farrand-cnn',\n",
       "              'namespace': 'dev',\n",
       "              'owner_references': None,\n",
       "              'resource_version': None,\n",
       "              'self_link': None,\n",
       "              'uid': None},\n",
       " 'spec': {'annotations': {'seldon.io/engine-seldon-log-messages-externally': 'true'},\n",
       "          'name': 'tom-farrand-cnn',\n",
       "          'oauth_key': None,\n",
       "          'oauth_secret': None,\n",
       "          'predictors': [{'annotations': None,\n",
       "                          'component_specs': [{'hpa_spec': None,\n",
       "                                               'keda_spec': None,\n",
       "                                               'metadata': {'annotations': None,\n",
       "                                                            'cluster_name': None,\n",
       "                                                            'creation_timestamp': '2021-11-14T23:07:19Z',\n",
       "                                                            'deletion_grace_period_seconds': None,\n",
       "                                                            'deletion_timestamp': None,\n",
       "                                                            'finalizers': None,\n",
       "                                                            'generate_name': None,\n",
       "                                                            'generation': None,\n",
       "                                                            'labels': None,\n",
       "                                                            'managed_fields': None,\n",
       "                                                            'name': None,\n",
       "                                                            'namespace': None,\n",
       "                                                            'owner_references': None,\n",
       "                                                            'resource_version': None,\n",
       "                                                            'self_link': None,\n",
       "                                                            'uid': None},\n",
       "                                               'pdb_spec': None,\n",
       "                                               'replicas': None,\n",
       "                                               'spec': {'active_deadline_seconds': None,\n",
       "                                                        'affinity': None,\n",
       "                                                        'automount_service_account_token': None,\n",
       "                                                        'containers': [{'args': None,\n",
       "                                                                        'command': None,\n",
       "                                                                        'env': None,\n",
       "                                                                        'env_from': None,\n",
       "                                                                        'image': None,\n",
       "                                                                        'image_pull_policy': None,\n",
       "                                                                        'lifecycle': None,\n",
       "                                                                        'liveness_probe': None,\n",
       "                                                                        'name': 'tom-farrand-cnn-container',\n",
       "                                                                        'ports': None,\n",
       "                                                                        'readiness_probe': None,\n",
       "                                                                        'resources': {'limits': {'cpu': '100m',\n",
       "                                                                                                 'memory': '1Gi'},\n",
       "                                                                                      'requests': {'cpu': '100m',\n",
       "                                                                                                   'memory': '1Gi'}},\n",
       "                                                                        'security_context': None,\n",
       "                                                                        'startup_probe': None,\n",
       "                                                                        'stdin': None,\n",
       "                                                                        'stdin_once': None,\n",
       "                                                                        'termination_message_path': None,\n",
       "                                                                        'termination_message_policy': None,\n",
       "                                                                        'tty': None,\n",
       "                                                                        'volume_devices': None,\n",
       "                                                                        'volume_mounts': None,\n",
       "                                                                        'working_dir': None}],\n",
       "                                                        'dns_config': None,\n",
       "                                                        'dns_policy': None,\n",
       "                                                        'enable_service_links': None,\n",
       "                                                        'ephemeral_containers': None,\n",
       "                                                        'host_aliases': None,\n",
       "                                                        'host_ipc': None,\n",
       "                                                        'host_network': None,\n",
       "                                                        'host_pid': None,\n",
       "                                                        'hostname': None,\n",
       "                                                        'image_pull_secrets': None,\n",
       "                                                        'init_containers': None,\n",
       "                                                        'node_name': None,\n",
       "                                                        'node_selector': None,\n",
       "                                                        'overhead': None,\n",
       "                                                        'preemption_policy': None,\n",
       "                                                        'priority': None,\n",
       "                                                        'priority_class_name': None,\n",
       "                                                        'readiness_gates': None,\n",
       "                                                        'restart_policy': None,\n",
       "                                                        'runtime_class_name': None,\n",
       "                                                        'scheduler_name': None,\n",
       "                                                        'security_context': None,\n",
       "                                                        'service_account': None,\n",
       "                                                        'service_account_name': None,\n",
       "                                                        'set_hostname_as_fqdn': None,\n",
       "                                                        'share_process_namespace': None,\n",
       "                                                        'subdomain': None,\n",
       "                                                        'termination_grace_period_seconds': None,\n",
       "                                                        'tolerations': None,\n",
       "                                                        'topology_spread_constraints': None,\n",
       "                                                        'volumes': None}}],\n",
       "                          'engine_resources': {'limits': None,\n",
       "                                               'requests': None},\n",
       "                          'explainer': None,\n",
       "                          'graph': {'children': None,\n",
       "                                    'endpoint': {'grpc_port': None,\n",
       "                                                 'http_port': None,\n",
       "                                                 'service_host': None,\n",
       "                                                 'service_port': None,\n",
       "                                                 'type': 'REST'},\n",
       "                                    'env_secret_ref_name': None,\n",
       "                                    'implementation': 'TENSORFLOW_SERVER',\n",
       "                                    'logger': {'mode': 'all', 'url': None},\n",
       "                                    'methods': None,\n",
       "                                    'model_uri': 'gs://tom-seldon-examples/time-series-workshop/',\n",
       "                                    'name': 'tom-farrand-cnn-container',\n",
       "                                    'parameters': None,\n",
       "                                    'service_account_name': None,\n",
       "                                    'storage_initializer_image': None,\n",
       "                                    'type': None},\n",
       "                          'labels': None,\n",
       "                          'name': 'default',\n",
       "                          'replicas': 1,\n",
       "                          'shadow': None,\n",
       "                          'ssl': None,\n",
       "                          'svc_orch_spec': {'env': None,\n",
       "                                            'replicas': None,\n",
       "                                            'resources': None},\n",
       "                          'traffic': 100}],\n",
       "          'protocol': 'seldon',\n",
       "          'replicas': None,\n",
       "          'server_type': None,\n",
       "          'transport': None},\n",
       " 'status': {'address': None,\n",
       "            'annotations': None,\n",
       "            'conditions': None,\n",
       "            'deployment_status': None,\n",
       "            'description': None,\n",
       "            'observed_generation': None,\n",
       "            'replicas': None,\n",
       "            'service_status': None,\n",
       "            'state': None}}"
      ]
     },
     "execution_count": 135,
     "metadata": {},
     "output_type": "execute_result"
    }
   ],
   "source": [
    "deployment_api = SeldonDeploymentsApi(auth())\n",
    "deployment_api.create_seldon_deployment(namespace=NAMESPACE, mldeployment=mldeployment)"
   ]
  },
  {
   "cell_type": "markdown",
   "metadata": {},
   "source": [
    "Our model should now be running as a fully fledged microservice. We can now log into Seldon Deploy:\n",
    "\n",
    "* URL: http://34.125.69.167/seldon-deploy/\n",
    "* Username: admin@seldon.io\n",
    "* Password: 12341234\n",
    "\n",
    "We can then test our new deployment using the following request: \n",
    "```\n",
    "{\n",
    "\t\"data\": {\n",
    "\t\t\"ndarray\": [\n",
    "\t\t\t[\n",
    "\t\t\t\t[1.0],\n",
    "\t\t\t\t[0.76],\n",
    "\t\t\t\t[0.11],\n",
    "\t\t\t\t[0.0],\n",
    "\t\t\t\t[0.08],\n",
    "\t\t\t\t[0.08],\n",
    "\t\t\t\t[0.07],\n",
    "\t\t\t\t[0.05],\n",
    "\t\t\t\t[0.05],\n",
    "\t\t\t\t[0.04],\n",
    "\t\t\t\t[0.03],\n",
    "\t\t\t\t[0.03],\n",
    "\t\t\t\t[0.04],\n",
    "\t\t\t\t[0.03],\n",
    "\t\t\t\t[0.04],\n",
    "\t\t\t\t[0.04],\n",
    "\t\t\t\t[0.04],\n",
    "\t\t\t\t[0.05],\n",
    "\t\t\t\t[0.05],\n",
    "\t\t\t\t[0.05],\n",
    "\t\t\t\t[0.07],\n",
    "\t\t\t\t[0.07],\n",
    "\t\t\t\t[0.08],\n",
    "\t\t\t\t[0.1],\n",
    "\t\t\t\t[0.12],\n",
    "\t\t\t\t[0.13],\n",
    "\t\t\t\t[0.17],\n",
    "\t\t\t\t[0.2],\n",
    "\t\t\t\t[0.21],\n",
    "\t\t\t\t[0.24],\n",
    "\t\t\t\t[0.25],\n",
    "\t\t\t\t[0.26],\n",
    "\t\t\t\t[0.29],\n",
    "\t\t\t\t[0.27],\n",
    "\t\t\t\t[0.27],\n",
    "\t\t\t\t[0.24],\n",
    "\t\t\t\t[0.21],\n",
    "\t\t\t\t[0.17],\n",
    "\t\t\t\t[0.16],\n",
    "\t\t\t\t[0.12],\n",
    "\t\t\t\t[0.12],\n",
    "\t\t\t\t[0.11],\n",
    "\t\t\t\t[0.11],\n",
    "\t\t\t\t[0.1],\n",
    "\t\t\t\t[0.11],\n",
    "\t\t\t\t[0.1],\n",
    "\t\t\t\t[0.11],\n",
    "\t\t\t\t[0.1],\n",
    "\t\t\t\t[0.11],\n",
    "\t\t\t\t[0.11],\n",
    "\t\t\t\t[0.12],\n",
    "\t\t\t\t[0.11],\n",
    "\t\t\t\t[0.12],\n",
    "\t\t\t\t[0.11],\n",
    "\t\t\t\t[0.12],\n",
    "\t\t\t\t[0.11],\n",
    "\t\t\t\t[0.11],\n",
    "\t\t\t\t[0.11],\n",
    "\t\t\t\t[0.12],\n",
    "\t\t\t\t[0.11],\n",
    "\t\t\t\t[0.11],\n",
    "\t\t\t\t[0.1],\n",
    "\t\t\t\t[0.1],\n",
    "\t\t\t\t[0.09],\n",
    "\t\t\t\t[0.09],\n",
    "\t\t\t\t[0.08],\n",
    "\t\t\t\t[0.08],\n",
    "\t\t\t\t[0.08],\n",
    "\t\t\t\t[0.08],\n",
    "\t\t\t\t[0.07],\n",
    "\t\t\t\t[0.08],\n",
    "\t\t\t\t[0.07],\n",
    "\t\t\t\t[0.08],\n",
    "\t\t\t\t[0.07],\n",
    "\t\t\t\t[0.07],\n",
    "\t\t\t\t[0.07],\n",
    "\t\t\t\t[0.07],\n",
    "\t\t\t\t[0.07],\n",
    "\t\t\t\t[0.09],\n",
    "\t\t\t\t[0.1],\n",
    "\t\t\t\t[0.11],\n",
    "\t\t\t\t[0.11],\n",
    "\t\t\t\t[0.12],\n",
    "\t\t\t\t[0.12],\n",
    "\t\t\t\t[0.11],\n",
    "\t\t\t\t[0.1],\n",
    "\t\t\t\t[0.1],\n",
    "\t\t\t\t[0.1],\n",
    "\t\t\t\t[0.09],\n",
    "\t\t\t\t[0.07],\n",
    "\t\t\t\t[0.07],\n",
    "\t\t\t\t[0.05],\n",
    "\t\t\t\t[0.06],\n",
    "\t\t\t\t[0.05],\n",
    "\t\t\t\t[0.06],\n",
    "\t\t\t\t[0.05],\n",
    "\t\t\t\t[0.06],\n",
    "\t\t\t\t[0.05],\n",
    "\t\t\t\t[0.05],\n",
    "\t\t\t\t[0.0],\n",
    "\t\t\t\t[0.01],\n",
    "\t\t\t\t[0.19],\n",
    "\t\t\t\t[0.68],\n",
    "\t\t\t\t[0.98],\n",
    "\t\t\t\t[0.62],\n",
    "\t\t\t\t[0.04],\n",
    "\t\t\t\t[0.01],\n",
    "\t\t\t\t[0.09],\n",
    "\t\t\t\t[0.07],\n",
    "\t\t\t\t[0.07],\n",
    "\t\t\t\t[0.05],\n",
    "\t\t\t\t[0.04],\n",
    "\t\t\t\t[0.04],\n",
    "\t\t\t\t[0.03],\n",
    "\t\t\t\t[0.04],\n",
    "\t\t\t\t[0.04],\n",
    "\t\t\t\t[0.05],\n",
    "\t\t\t\t[0.04],\n",
    "\t\t\t\t[0.05],\n",
    "\t\t\t\t[0.04],\n",
    "\t\t\t\t[0.05],\n",
    "\t\t\t\t[0.05],\n",
    "\t\t\t\t[0.06],\n",
    "\t\t\t\t[0.07],\n",
    "\t\t\t\t[0.0],\n",
    "\t\t\t\t[0.0],\n",
    "\t\t\t\t[0.0],\n",
    "\t\t\t\t[0.0],\n",
    "\t\t\t\t[0.0],\n",
    "\t\t\t\t[0.0],\n",
    "\t\t\t\t[0.0],\n",
    "\t\t\t\t[0.0],\n",
    "\t\t\t\t[0.0],\n",
    "\t\t\t\t[0.0],\n",
    "\t\t\t\t[0.0],\n",
    "\t\t\t\t[0.0],\n",
    "\t\t\t\t[0.0],\n",
    "\t\t\t\t[0.0],\n",
    "\t\t\t\t[0.0],\n",
    "\t\t\t\t[0.0],\n",
    "\t\t\t\t[0.0],\n",
    "\t\t\t\t[0.0],\n",
    "\t\t\t\t[0.0],\n",
    "\t\t\t\t[0.0],\n",
    "\t\t\t\t[0.0],\n",
    "\t\t\t\t[0.0],\n",
    "\t\t\t\t[0.0],\n",
    "\t\t\t\t[0.0],\n",
    "\t\t\t\t[0.0],\n",
    "\t\t\t\t[0.0],\n",
    "\t\t\t\t[0.0],\n",
    "\t\t\t\t[0.0],\n",
    "\t\t\t\t[0.0],\n",
    "\t\t\t\t[0.0],\n",
    "\t\t\t\t[0.0],\n",
    "\t\t\t\t[0.0],\n",
    "\t\t\t\t[0.0],\n",
    "\t\t\t\t[0.0],\n",
    "\t\t\t\t[0.0],\n",
    "\t\t\t\t[0.0],\n",
    "\t\t\t\t[0.0],\n",
    "\t\t\t\t[0.0],\n",
    "\t\t\t\t[0.0],\n",
    "\t\t\t\t[0.0],\n",
    "\t\t\t\t[0.0],\n",
    "\t\t\t\t[0.0],\n",
    "\t\t\t\t[0.0],\n",
    "\t\t\t\t[0.0],\n",
    "\t\t\t\t[0.0],\n",
    "\t\t\t\t[0.0],\n",
    "\t\t\t\t[0.0],\n",
    "\t\t\t\t[0.0],\n",
    "\t\t\t\t[0.0],\n",
    "\t\t\t\t[0.0],\n",
    "\t\t\t\t[0.0],\n",
    "\t\t\t\t[0.0],\n",
    "\t\t\t\t[0.0],\n",
    "\t\t\t\t[0.0],\n",
    "\t\t\t\t[0.0],\n",
    "\t\t\t\t[0.0],\n",
    "\t\t\t\t[0.0],\n",
    "\t\t\t\t[0.0],\n",
    "\t\t\t\t[0.0],\n",
    "\t\t\t\t[0.0],\n",
    "\t\t\t\t[0.0],\n",
    "\t\t\t\t[0.0]\n",
    "\t\t\t]\n",
    "\t\t]\n",
    "\t}\n",
    "}\n",
    "```"
   ]
  },
  {
   "cell_type": "markdown",
   "metadata": {},
   "source": [
    "## Drift Detection\n",
    "\n",
    "Although powerful, modern machine learning models can be sensitive. Seemingly subtle changes in a data distribution can destroy the performance of otherwise state-of-the art models, which can be especially problematic when ML models are deployed in production. Typically, ML models are tested on held out data in order to estimate their future performance. Crucially, this assumes that the process underlying the input data `X` and output data `Y` remains constant.\n",
    "\n",
    "Drift can be classified into the following types:\n",
    "* **Covariate drift**: Also referred to as input drift, this occurs when the distribution of the input data has shifted `P(X) != Pref(X)`, whilst `P(Y|X) = Pref(Y|X)`. This may result in the model giving unreliable predictions.\n",
    "\n",
    "* **Prior drift**: Also referred to as label drift, this occurs when the distribution of the outputs has shifted `P(Y) != Pref(Y)`, whilst `P(X|Y) = Pref(X|Y)`. This can affect the model’s decision boundary, as well as the model’s performance metrics.\n",
    "\n",
    "* **Concept drift**: This occurs when the process generating `Y` from `X` has changed, such that `P(Y|X) != Pref(Y|X)`. It is possible that the model might no longer give a suitable approximation of the true process.\n",
    "\n",
    "-----------------\n",
    "\n",
    "In this instance we will train a Kolmgorov-Smirnov drift detector to pick up on covariate drift. The KS Drift detector applies a two-sample KS test to compare the distance between the new probability distribution and the reference distribution. \n",
    "\n",
    "This is done on a feature by feature basis and the results are then aggregated using a correction, i.e. Bonferroni, to determine whether drift has occurred overall within the sample. \n",
    "\n",
    "We will use the training set as our reference distribution. Creating our drift detector is then as simple as writing a single line of code:"
   ]
  },
  {
   "cell_type": "code",
   "execution_count": 96,
   "metadata": {},
   "outputs": [],
   "source": [
    "dd = KSDrift(X_train, p_val=.05, correction='bonferroni')"
   ]
  },
  {
   "cell_type": "markdown",
   "metadata": {},
   "source": [
    "We can then easily get a prediction against a given batch of data and determine whether drift has occurred or not!"
   ]
  },
  {
   "cell_type": "code",
   "execution_count": 110,
   "metadata": {},
   "outputs": [
    {
     "name": "stdout",
     "output_type": "stream",
     "text": [
      "Drift? No!\n"
     ]
    }
   ],
   "source": [
    "preds = dd.predict(X_train)\n",
    "\n",
    "print(f'Drift? {labels[preds[\"data\"][\"is_drift\"]]}')"
   ]
  },
  {
   "cell_type": "markdown",
   "metadata": {},
   "source": [
    "As expected, when using our training data as the new distribution we do not detect any drift. \n",
    "\n",
    "However, if we passed the instances of solely the ventricular ecoptic beats (class 2) we can see drift is now detected. "
   ]
  },
  {
   "cell_type": "code",
   "execution_count": 113,
   "metadata": {},
   "outputs": [
    {
     "name": "stdout",
     "output_type": "stream",
     "text": [
      "Drift? Yes!\n"
     ]
    }
   ],
   "source": [
    "new_preds = dd.predict(label_dfs[2].values)\n",
    "\n",
    "print(f'Drift? {labels[new_preds[\"data\"][\"is_drift\"]]}')"
   ]
  },
  {
   "cell_type": "markdown",
   "metadata": {},
   "source": [
    "Inspecting the `new_preds` object we can see that it contains the `is_drift` binary flag indicating whether drift has been detected after applying the Bonferroni correction to the feature wise distance."
   ]
  },
  {
   "cell_type": "code",
   "execution_count": 114,
   "metadata": {},
   "outputs": [
    {
     "data": {
      "text/plain": [
       "{'data': {'is_drift': 1,\n",
       "  'distance': array([0.41, 0.26, 0.18, 0.32, 0.29, 0.28, 0.28, 0.29, 0.29, 0.29, 0.3 ,\n",
       "         0.3 , 0.29, 0.28, 0.28, 0.27, 0.26, 0.26, 0.26, 0.25, 0.25, 0.24,\n",
       "         0.24, 0.24, 0.23, 0.23, 0.22, 0.22, 0.21, 0.21, 0.21, 0.2 , 0.2 ,\n",
       "         0.2 , 0.19, 0.19, 0.2 , 0.22, 0.24, 0.27, 0.28, 0.3 , 0.31, 0.31,\n",
       "         0.32, 0.33, 0.33, 0.34, 0.34, 0.34, 0.34, 0.34, 0.34, 0.34, 0.34,\n",
       "         0.34, 0.34, 0.33, 0.33, 0.33, 0.32, 0.31, 0.31, 0.3 , 0.3 , 0.29,\n",
       "         0.29, 0.29, 0.29, 0.29, 0.28, 0.28, 0.28, 0.28, 0.28, 0.27, 0.26,\n",
       "         0.26, 0.25, 0.25, 0.25, 0.25, 0.26, 0.26, 0.26, 0.27, 0.27, 0.27,\n",
       "         0.28, 0.28, 0.29, 0.29, 0.3 , 0.3 , 0.3 , 0.31, 0.31, 0.31, 0.31,\n",
       "         0.32, 0.32, 0.32, 0.32, 0.33, 0.34, 0.35, 0.35, 0.36, 0.36, 0.37,\n",
       "         0.37, 0.38, 0.38, 0.38, 0.39, 0.39, 0.39, 0.39, 0.4 , 0.4 , 0.4 ,\n",
       "         0.41, 0.41, 0.41, 0.42, 0.42, 0.43, 0.43, 0.44, 0.44, 0.44, 0.44,\n",
       "         0.44, 0.44, 0.45, 0.45, 0.45, 0.45, 0.45, 0.46, 0.46, 0.46, 0.46,\n",
       "         0.46, 0.47, 0.47, 0.47, 0.47, 0.47, 0.47, 0.48, 0.48, 0.47, 0.48,\n",
       "         0.47, 0.48, 0.48, 0.48, 0.48, 0.48, 0.48, 0.48, 0.48, 0.48, 0.48,\n",
       "         0.48, 0.48, 0.49, 0.48, 0.49, 0.49, 0.49, 0.49, 0.49, 0.49, 0.5 ,\n",
       "         0.5 , 0.5 , 0.49, 0.5 , 0.5 , 0.5 , 0.5 , 0.5 , 0.5 , 0.5 ],\n",
       "        dtype=float32),\n",
       "  'p_val': array([0., 0., 0., 0., 0., 0., 0., 0., 0., 0., 0., 0., 0., 0., 0., 0., 0.,\n",
       "         0., 0., 0., 0., 0., 0., 0., 0., 0., 0., 0., 0., 0., 0., 0., 0., 0.,\n",
       "         0., 0., 0., 0., 0., 0., 0., 0., 0., 0., 0., 0., 0., 0., 0., 0., 0.,\n",
       "         0., 0., 0., 0., 0., 0., 0., 0., 0., 0., 0., 0., 0., 0., 0., 0., 0.,\n",
       "         0., 0., 0., 0., 0., 0., 0., 0., 0., 0., 0., 0., 0., 0., 0., 0., 0.,\n",
       "         0., 0., 0., 0., 0., 0., 0., 0., 0., 0., 0., 0., 0., 0., 0., 0., 0.,\n",
       "         0., 0., 0., 0., 0., 0., 0., 0., 0., 0., 0., 0., 0., 0., 0., 0., 0.,\n",
       "         0., 0., 0., 0., 0., 0., 0., 0., 0., 0., 0., 0., 0., 0., 0., 0., 0.,\n",
       "         0., 0., 0., 0., 0., 0., 0., 0., 0., 0., 0., 0., 0., 0., 0., 0., 0.,\n",
       "         0., 0., 0., 0., 0., 0., 0., 0., 0., 0., 0., 0., 0., 0., 0., 0., 0.,\n",
       "         0., 0., 0., 0., 0., 0., 0., 0., 0., 0., 0., 0., 0., 0., 0., 0.],\n",
       "        dtype=float32),\n",
       "  'threshold': 0.00026881720430107527},\n",
       " 'meta': {'name': 'KSDrift', 'detector_type': 'offline', 'data_type': None}}"
      ]
     },
     "execution_count": 114,
     "metadata": {},
     "output_type": "execute_result"
    }
   ],
   "source": [
    "new_preds"
   ]
  },
  {
   "cell_type": "markdown",
   "metadata": {
    "id": "_YUfhpOhbiDH"
   },
   "source": [
    "We can easily save the artifacts related to our drift detector using Alibi Detect's `save_detector` utility function. "
   ]
  },
  {
   "cell_type": "code",
   "execution_count": 100,
   "metadata": {},
   "outputs": [],
   "source": [
    "save_detector(dd, \"drift_detector\")"
   ]
  },
  {
   "cell_type": "markdown",
   "metadata": {},
   "source": [
    "We then push this to our GCS bucket ready for deployment alongside our model. \n",
    "\n",
    "Remember to replace `<YOUR NAME>` with the same name as before! "
   ]
  },
  {
   "cell_type": "code",
   "execution_count": 101,
   "metadata": {},
   "outputs": [
    {
     "name": "stdout",
     "output_type": "stream",
     "text": [
      "Copying file://drift_detector/meta.pickle [Content-Type=application/octet-stream]...\n",
      "Copying file://drift_detector/KSDrift.pickle [Content-Type=application/octet-stream]...\n",
      "- [2 files][124.2 MiB/124.2 MiB]  871.0 KiB/s                                   \n",
      "Operation completed over 2 objects/124.2 MiB.                                    \n"
     ]
    }
   ],
   "source": [
    "!gsutil cp -r drift_detector gs://tom-seldon-examples/time-series-workshop/<YOUR NAME>/"
   ]
  },
  {
   "cell_type": "markdown",
   "metadata": {},
   "source": [
    "We can then use the Seldon Deploy SDK to configure and deploy our shiny new drift detector!"
   ]
  },
  {
   "cell_type": "code",
   "execution_count": 137,
   "metadata": {},
   "outputs": [],
   "source": [
    "# TO DO: Add code to deploy the drift detector!\n",
    "DD_URI = f'gs://tom-seldon-examples/time-series-workshop/{YOUR_NAME}/drift_detector/'\n",
    "DD_NAME = \"ks-drift\"\n",
    "\n",
    "dd_config = {'config': {'basic': \n",
    "                        {'drift_batch_size': '5',\n",
    "                         'storage_uri': DD_URI}\n",
    "                        },\n",
    "             'deployment_name': DEPLOYMENT_NAME,\n",
    "             'detector_type': 'drift',\n",
    "             'name': DD_NAME,\n",
    "             'namespace': NAMESPACE\n",
    "            }"
   ]
  },
  {
   "cell_type": "code",
   "execution_count": 138,
   "metadata": {},
   "outputs": [
    {
     "data": {
      "text/plain": [
       "{'config': {'basic': {'drift_batch_size': '5',\n",
       "                      'env_secret_ref': None,\n",
       "                      'storage_uri': 'gs://tom-seldon-examples/time-series-workshop/tom-farrand/drift_detector/'},\n",
       "            'deployment': {'event_source': 'io.seldon.serving.tom-farrand-cnn-ks-drift',\n",
       "                           'event_type': 'io.seldon.serving.inference.drift',\n",
       "                           'http_port': '8080',\n",
       "                           'model_name': 'ks-drift',\n",
       "                           'prom_scraping': True,\n",
       "                           'protocol': 'tensorflow.http',\n",
       "                           'reply_url': 'http://seldon-request-logger.seldon-logs.svc.cluster.local:80',\n",
       "                           'user_permission': 8888}},\n",
       " 'deployment_kind': 'SeldonDeployment',\n",
       " 'deployment_name': 'tom-farrand-cnn',\n",
       " 'detector_type': 'drift',\n",
       " 'name': 'ks-drift',\n",
       " 'namespace': 'dev'}"
      ]
     },
     "execution_count": 138,
     "metadata": {},
     "output_type": "execute_result"
    }
   ],
   "source": [
    "dd_api = DriftDetectorApi(auth())\n",
    "\n",
    "dd_api.create_drift_detector_seldon_deployment(name=DEPLOYMENT_NAME, \n",
    "                                               namespace=NAMESPACE, \n",
    "                                               detector_data=dd_config)"
   ]
  },
  {
   "cell_type": "code",
   "execution_count": null,
   "metadata": {},
   "outputs": [],
   "source": []
  }
 ],
 "metadata": {
  "accelerator": "GPU",
  "colab": {
   "collapsed_sections": [],
   "name": "01-ecg-workshop.ipynb",
   "provenance": []
  },
  "kernelspec": {
   "display_name": "Python 3 (ipykernel)",
   "language": "python",
   "name": "python3"
  },
  "language_info": {
   "codemirror_mode": {
    "name": "ipython",
    "version": 3
   },
   "file_extension": ".py",
   "mimetype": "text/x-python",
   "name": "python",
   "nbconvert_exporter": "python",
   "pygments_lexer": "ipython3",
   "version": "3.7.10"
  }
 },
 "nbformat": 4,
 "nbformat_minor": 1
}
